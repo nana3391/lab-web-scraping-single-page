{
 "cells": [
  {
   "cell_type": "code",
   "execution_count": 8,
   "id": "6a8ac20e",
   "metadata": {},
   "outputs": [],
   "source": [
    "import pandas as pd  # keywords are highlighted in green, other strings in red, etc.\n",
    "import numpy as np\n",
    "from bs4 import BeautifulSoup\n",
    "import requests\n",
    "\n"
   ]
  },
  {
   "cell_type": "code",
   "execution_count": 9,
   "id": "ea31ee02",
   "metadata": {},
   "outputs": [],
   "source": [
    "url= \"https://www.popvortex.com/music/charts/top-100-songs.php\""
   ]
  },
  {
   "cell_type": "code",
   "execution_count": 10,
   "id": "f29f16c6",
   "metadata": {},
   "outputs": [
    {
     "data": {
      "text/plain": [
       "200"
      ]
     },
     "execution_count": 10,
     "metadata": {},
     "output_type": "execute_result"
    }
   ],
   "source": [
    "# 3. download html with a get request\n",
    "response = requests.get(url)\n",
    "response.status_code # 200 status code means OK!"
   ]
  },
  {
   "cell_type": "code",
   "execution_count": 11,
   "id": "9a379eca",
   "metadata": {},
   "outputs": [],
   "source": [
    "# 4.1. parse html (create the 'soup')\n",
    "soup = BeautifulSoup(response.content, \"html.parser\")"
   ]
  },
  {
   "cell_type": "code",
   "execution_count": 14,
   "id": "2ff0e9f0",
   "metadata": {},
   "outputs": [],
   "source": [
    "# 4.2. check that the html code looks like it should\n",
    "#soup"
   ]
  },
  {
   "cell_type": "code",
   "execution_count": 15,
   "id": "37e78168",
   "metadata": {},
   "outputs": [
    {
     "data": {
      "text/plain": [
       "[<p class=\"title-artist\"><cite class=\"title\">Last Night</cite><em class=\"artist\">Morgan Wallen</em></p>]"
      ]
     },
     "execution_count": 15,
     "metadata": {},
     "output_type": "execute_result"
    }
   ],
   "source": [
    "\n",
    "soup.select(\"#chart-position-1 > div.chart-content.col-xs-12.col-sm-8 > p\")"
   ]
  },
  {
   "cell_type": "code",
   "execution_count": 16,
   "id": "256077f8",
   "metadata": {},
   "outputs": [
    {
     "data": {
      "text/plain": [
       "'Last Night'"
      ]
     },
     "execution_count": 16,
     "metadata": {},
     "output_type": "execute_result"
    }
   ],
   "source": [
    "soup.select(\"div.chart-content.col-xs-12.col-sm-8 > p > cite\")[0].get_text()"
   ]
  },
  {
   "cell_type": "code",
   "execution_count": 17,
   "id": "1f1e9a4d",
   "metadata": {},
   "outputs": [
    {
     "data": {
      "text/plain": [
       "'Morgan Wallen'"
      ]
     },
     "execution_count": 17,
     "metadata": {},
     "output_type": "execute_result"
    }
   ],
   "source": [
    "soup.select(\"div.chart-content.col-xs-12.col-sm-8 > p > em\")[0].get_text()"
   ]
  },
  {
   "cell_type": "code",
   "execution_count": 18,
   "id": "a5f6eab8",
   "metadata": {},
   "outputs": [
    {
     "name": "stdout",
     "output_type": "stream",
     "text": [
      "['Last Night', 'Flowers', 'Fast Car', 'Like Crazy (Deep House Remix)', 'Like Crazy (UK Garage Remix)', 'Like Crazy (Instrumental)', 'Calm Down', 'Justice for All', 'Like Crazy (English Version)', 'Like Crazy', 'Heart Like A Truck', 'Eyes Closed', 'Fighting Myself', 'You Say', \"Growin' Up and Gettin' Old\", 'Thought You Should Know', '5 Leaf Clover', 'Thinkin’ Bout Me', 'Players', 'Love You Anyway', 'Anti-Hero', 'Thank God', 'labour', 'More Than Able (feat. Chandler Moore & Tiffany Hudson)', \"God's Country\", 'Rock and a Hard Place', 'End of the World', 'This Is Our God', 'Thank God I Do', 'wait in the truck', 'Face-off', 'Unstoppable', \"I Ain't Worried\", 'Favorite Song', 'Rescue', 'You Proof', 'All Of The Girls You Loved Before', 'Alone', 'Set Me Free, Pt. 2', 'NEED A FAVOR', 'In Jesus Name (God Of Possible)', 'Eyes Closed', 'Kill Bill', 'BESO', 'Look At Us Now (Honeycomb)', \"Something in the Orange (Z&E's Version)\", 'TRUSTFALL', 'Gratitude', 'As It Was', 'Wasted On You', 'Interlude : Dive', \"Chasin' You\", 'Sure Thing', 'Hold My Hand', 'Lift Me Up (From Black Panther: Wakanda Forever - Music From and Inspired By)', 'Bright Eyes', 'Made You Look', 'You Raise Me Up', 'TQG', 'Son Of A Sinner', 'Lost', 'Tennessee Whiskey', 'Heart Attack (Rock Version)', 'ICU', 'Mother', 'Unholy', 'One Thing At A Time', 'Dancin’ In The Country', 'Eyes Closed (Piano Version)', 'God Is In This Story', 'Going, Going, Gone', \"What He Didn't Do\", 'Handle On You', 'Let Me Down Easy', 'Die For You (Remix)', 'golden hour', 'Lavender Haze', 'Ghosts Again', 'Calm Down', 'Human', \"Boy's a liar, Pt. 2\", 'Bloody Mary', 'Tennessee Orange', 'Everywhere', \"Creepin'\", 'Escapism.', 'I Would Die for You', 'Where the Wild Things Are', 'I Wrote The Book', 'Change the World', 'God Gave Me You', 'Hold On To Me', 'Forever and Ever, Amen', 'Cowgirls (feat. ERNEST)', 'Head Above Water', '10:35', 'Trump Won', 'Just Pretend', 'Heaven', 'Pretty Little Poison']\n",
      "['Morgan Wallen', 'Miley Cyrus', 'Luke Combs', 'Jimin', 'Jimin', 'Jimin', 'Rema & Selena Gomez', 'Donald J. Trump & J6 Prison Choir', 'Jimin', 'Jimin', 'Lainey Wilson', 'Ed Sheeran', 'LINKIN PARK', 'Lauren Daigle', 'Luke Combs', 'Morgan Wallen', 'Luke Combs', 'Morgan Wallen', 'Coi Leray', 'Luke Combs', 'Taylor Swift', 'Kane Brown & Katelyn Brown', 'Paris Paloma', 'Elevation Worship', 'Blake Shelton', 'Bailey Zimmerman', 'Tom MacDonald & John Rich', 'Phil Wickham', 'Lauren Daigle', 'HARDY & Lainey Wilson', 'Jimin', 'Sia', 'OneRepublic', 'Toosii', 'Lauren Daigle', 'Morgan Wallen', 'Taylor Swift', 'Jimin', 'Jimin', 'Jelly Roll', 'Katy Nichole', 'Ed Sheeran', 'SZA', 'ROSALÍA & Rauw Alejandro', 'Daisy Jones & The Six', 'Zach Bryan', 'P!nk', 'Brandon Lake', 'Harry Styles', 'Morgan Wallen', 'Jimin', 'Morgan Wallen', 'Miguel', 'Lady Gaga', 'Rihanna', 'Timcast', 'Meghan Trainor', 'Josh Groban', 'KAROL G & Shakira', 'Jelly Roll', 'LINKIN PARK', 'Chris Stapleton', 'Demi Lovato', 'Coco Jones', 'Meghan Trainor', 'Sam Smith & Kim Petras', 'Morgan Wallen', 'Tyler Hubbard', 'Ed Sheeran', 'Katy Nichole & Big Daddy Weave', 'Luke Combs', 'Carly Pearce', 'Parker McCollum', 'Daisy Jones & The Six', 'The Weeknd & Ariana Grande', 'JVKE', 'Taylor Swift', 'Depeche Mode', 'Rema', 'Cody Johnson', 'PinkPantheress & Ice Spice', 'Lady Gaga', 'Megan Moroney', 'Fleetwood Mac', 'Metro Boomin, The Weeknd & 21 Savage', 'RAYE & 070 Shake', 'In This Moment', 'Luke Combs', 'Morgan Wallen', 'Eric Clapton', 'Blake Shelton', 'Lauren Daigle', 'Randy Travis', 'Morgan Wallen', 'Avril Lavigne', 'Tiësto & Tate McRae', 'Natasha Owens', 'Bad Omens', 'Niall Horan', 'Warren Zeiders']\n"
     ]
    }
   ],
   "source": [
    "#initialize empty lists\n",
    "title = []\n",
    "artist = []\n",
    "\n",
    "# define the number of iterations of our for loop\n",
    "# by checking how many elements are in the retrieved result set\n",
    "# (this is equivalent but more robust than just explicitly defining 250 iterations)\n",
    "num_iter = len(soup.select(\"div.chart-content.col-xs-12.col-sm-8 > p > cite\"))\n",
    "\n",
    "tClist = soup.select(\"div.chart-content.col-xs-12.col-sm-8 > p > cite\")\n",
    "spanlist = soup.select(\"div.chart-content.col-xs-12.col-sm-8 > p > em\")\n",
    "# iterate through the result set and retrive all the data\n",
    "for i in range(num_iter):\n",
    "    title.append(tClist[i].get_text())\n",
    "    artist.append(spanlist[i].get_text())\n",
    "\n",
    "print(title)\n",
    "print(artist)"
   ]
  },
  {
   "cell_type": "code",
   "execution_count": 23,
   "id": "88d6a7e8",
   "metadata": {},
   "outputs": [],
   "source": [
    "top100songs = pd.DataFrame({\"title\":title,\n",
    "                       \"artist\":artist})"
   ]
  },
  {
   "cell_type": "code",
   "execution_count": 24,
   "id": "553e5dda",
   "metadata": {},
   "outputs": [
    {
     "data": {
      "text/html": [
       "<div>\n",
       "<style scoped>\n",
       "    .dataframe tbody tr th:only-of-type {\n",
       "        vertical-align: middle;\n",
       "    }\n",
       "\n",
       "    .dataframe tbody tr th {\n",
       "        vertical-align: top;\n",
       "    }\n",
       "\n",
       "    .dataframe thead th {\n",
       "        text-align: right;\n",
       "    }\n",
       "</style>\n",
       "<table border=\"1\" class=\"dataframe\">\n",
       "  <thead>\n",
       "    <tr style=\"text-align: right;\">\n",
       "      <th></th>\n",
       "      <th>title</th>\n",
       "      <th>artist</th>\n",
       "    </tr>\n",
       "  </thead>\n",
       "  <tbody>\n",
       "    <tr>\n",
       "      <th>0</th>\n",
       "      <td>Last Night</td>\n",
       "      <td>Morgan Wallen</td>\n",
       "    </tr>\n",
       "    <tr>\n",
       "      <th>1</th>\n",
       "      <td>Flowers</td>\n",
       "      <td>Miley Cyrus</td>\n",
       "    </tr>\n",
       "    <tr>\n",
       "      <th>2</th>\n",
       "      <td>Fast Car</td>\n",
       "      <td>Luke Combs</td>\n",
       "    </tr>\n",
       "    <tr>\n",
       "      <th>3</th>\n",
       "      <td>Like Crazy (Deep House Remix)</td>\n",
       "      <td>Jimin</td>\n",
       "    </tr>\n",
       "    <tr>\n",
       "      <th>4</th>\n",
       "      <td>Like Crazy (UK Garage Remix)</td>\n",
       "      <td>Jimin</td>\n",
       "    </tr>\n",
       "    <tr>\n",
       "      <th>...</th>\n",
       "      <td>...</td>\n",
       "      <td>...</td>\n",
       "    </tr>\n",
       "    <tr>\n",
       "      <th>95</th>\n",
       "      <td>10:35</td>\n",
       "      <td>Tiësto &amp; Tate McRae</td>\n",
       "    </tr>\n",
       "    <tr>\n",
       "      <th>96</th>\n",
       "      <td>Trump Won</td>\n",
       "      <td>Natasha Owens</td>\n",
       "    </tr>\n",
       "    <tr>\n",
       "      <th>97</th>\n",
       "      <td>Just Pretend</td>\n",
       "      <td>Bad Omens</td>\n",
       "    </tr>\n",
       "    <tr>\n",
       "      <th>98</th>\n",
       "      <td>Heaven</td>\n",
       "      <td>Niall Horan</td>\n",
       "    </tr>\n",
       "    <tr>\n",
       "      <th>99</th>\n",
       "      <td>Pretty Little Poison</td>\n",
       "      <td>Warren Zeiders</td>\n",
       "    </tr>\n",
       "  </tbody>\n",
       "</table>\n",
       "<p>100 rows × 2 columns</p>\n",
       "</div>"
      ],
      "text/plain": [
       "                            title               artist\n",
       "0                      Last Night        Morgan Wallen\n",
       "1                         Flowers          Miley Cyrus\n",
       "2                        Fast Car           Luke Combs\n",
       "3   Like Crazy (Deep House Remix)                Jimin\n",
       "4    Like Crazy (UK Garage Remix)                Jimin\n",
       "..                            ...                  ...\n",
       "95                          10:35  Tiësto & Tate McRae\n",
       "96                      Trump Won        Natasha Owens\n",
       "97                   Just Pretend            Bad Omens\n",
       "98                         Heaven          Niall Horan\n",
       "99           Pretty Little Poison       Warren Zeiders\n",
       "\n",
       "[100 rows x 2 columns]"
      ]
     },
     "execution_count": 24,
     "metadata": {},
     "output_type": "execute_result"
    }
   ],
   "source": [
    "top100songs"
   ]
  },
  {
   "cell_type": "code",
   "execution_count": null,
   "id": "0d77b0e2",
   "metadata": {},
   "outputs": [],
   "source": []
  },
  {
   "cell_type": "code",
   "execution_count": null,
   "id": "0fdcd881",
   "metadata": {},
   "outputs": [],
   "source": []
  },
  {
   "cell_type": "code",
   "execution_count": null,
   "id": "3ed6fe40",
   "metadata": {},
   "outputs": [],
   "source": []
  }
 ],
 "metadata": {
  "kernelspec": {
   "display_name": "Python 3 (ipykernel)",
   "language": "python",
   "name": "python3"
  },
  "language_info": {
   "codemirror_mode": {
    "name": "ipython",
    "version": 3
   },
   "file_extension": ".py",
   "mimetype": "text/x-python",
   "name": "python",
   "nbconvert_exporter": "python",
   "pygments_lexer": "ipython3",
   "version": "3.9.13"
  }
 },
 "nbformat": 4,
 "nbformat_minor": 5
}

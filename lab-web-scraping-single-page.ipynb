{
 "cells": [
  {
   "cell_type": "code",
   "execution_count": 1,
   "id": "6a8ac20e",
   "metadata": {},
   "outputs": [],
   "source": [
    "import pandas as pd  # keywords are highlighted in green, other strings in red, etc.\n",
    "import numpy as np\n",
    "from bs4 import BeautifulSoup\n",
    "import requests\n",
    "\n"
   ]
  },
  {
   "cell_type": "code",
   "execution_count": 2,
   "id": "ea31ee02",
   "metadata": {},
   "outputs": [],
   "source": [
    "url= \"https://www.popvortex.com/music/charts/top-100-songs.php\""
   ]
  },
  {
   "cell_type": "code",
   "execution_count": 3,
   "id": "f29f16c6",
   "metadata": {},
   "outputs": [
    {
     "data": {
      "text/plain": [
       "200"
      ]
     },
     "execution_count": 3,
     "metadata": {},
     "output_type": "execute_result"
    }
   ],
   "source": [
    "# 3. download html with a get request\n",
    "response = requests.get(url)\n",
    "response.status_code # 200 status code means OK!"
   ]
  },
  {
   "cell_type": "code",
   "execution_count": 4,
   "id": "9a379eca",
   "metadata": {},
   "outputs": [],
   "source": [
    "# 4.1. parse html (create the 'soup')\n",
    "soup = BeautifulSoup(response.content, \"html.parser\")"
   ]
  },
  {
   "cell_type": "code",
   "execution_count": 5,
   "id": "2ff0e9f0",
   "metadata": {},
   "outputs": [],
   "source": [
    "# 4.2. check that the html code looks like it should\n",
    "#soup"
   ]
  },
  {
   "cell_type": "code",
   "execution_count": 6,
   "id": "37e78168",
   "metadata": {},
   "outputs": [
    {
     "data": {
      "text/plain": [
       "[<p class=\"title-artist\"><cite class=\"title\">Last Night</cite><em class=\"artist\">Morgan Wallen</em></p>]"
      ]
     },
     "execution_count": 6,
     "metadata": {},
     "output_type": "execute_result"
    }
   ],
   "source": [
    "\n",
    "soup.select(\"#chart-position-1 > div.chart-content.col-xs-12.col-sm-8 > p\")"
   ]
  },
  {
   "cell_type": "code",
   "execution_count": 7,
   "id": "256077f8",
   "metadata": {},
   "outputs": [
    {
     "data": {
      "text/plain": [
       "'Last Night'"
      ]
     },
     "execution_count": 7,
     "metadata": {},
     "output_type": "execute_result"
    }
   ],
   "source": [
    "soup.select(\"div.chart-content.col-xs-12.col-sm-8 > p > cite\")[0].get_text()"
   ]
  },
  {
   "cell_type": "code",
   "execution_count": 8,
   "id": "1f1e9a4d",
   "metadata": {},
   "outputs": [
    {
     "data": {
      "text/plain": [
       "'Morgan Wallen'"
      ]
     },
     "execution_count": 8,
     "metadata": {},
     "output_type": "execute_result"
    }
   ],
   "source": [
    "soup.select(\"div.chart-content.col-xs-12.col-sm-8 > p > em\")[0].get_text()"
   ]
  },
  {
   "cell_type": "code",
   "execution_count": 9,
   "id": "a5f6eab8",
   "metadata": {},
   "outputs": [
    {
     "name": "stdout",
     "output_type": "stream",
     "text": [
      "['Last Night', 'Flowers', 'Fast Car', 'Like Crazy (Deep House Remix)', 'Like Crazy (UK Garage Remix)', 'Calm Down', 'Like Crazy (Instrumental)', 'Heart Like A Truck', 'Eyes Closed', 'Justice for All', 'Like Crazy (English Version)', 'Fighting Myself', 'Like Crazy', 'You Say', 'Anti-Hero', 'Thinkin’ Bout Me', 'Thought You Should Know', 'Players', \"Growin' Up and Gettin' Old\", 'labour', '5 Leaf Clover', 'Love You Anyway', 'Thank God', \"God's Country\", 'TRUSTFALL', 'Thank God I Do', 'Here Without You', 'Rock and a Hard Place', 'wait in the truck', 'Kill Bill', 'Favorite Song', 'Unstoppable', 'More Than Able (feat. Chandler Moore & Tiffany Hudson)', \"I Ain't Worried\", 'End of the World', 'In Jesus Name (God Of Possible)', 'Eyes Closed (Piano Version)', 'Rescue', 'Wasted On You', 'This Is Our God', 'All Of The Girls You Loved Before', 'As It Was', 'Sure Thing', \"Something in the Orange (Z&E's Version)\", 'NEED A FAVOR', 'BESO', 'Eyes Closed', 'Look At Us Now (Honeycomb)', 'You Proof', 'Gratitude', 'You Raise Me Up', 'Lift Me Up (From Black Panther: Wakanda Forever - Music From and Inspired By)', \"Chasin' You\", 'Face-off', 'Hold My Hand', 'Son Of A Sinner', 'Set Me Free, Pt. 2', 'Tennessee Whiskey', 'Lost', 'Bonjour', 'TQG', 'One Thing At A Time', 'ICU', 'God Is In This Story', 'Alone', \"Boy's a liar, Pt. 2\", 'Unholy', '10:35', 'Bright Eyes', 'Rainbowland (feat. Dolly Parton)', 'Escapism.', 'Made You Look', 'Mother', 'God Gave Me You', 'I Wrote The Book', 'Human', \"I'm Good (Blue)\", 'She Had Me At Heads Carolina', 'Hold On To Me', 'Forever and Ever, Amen', 'golden hour', 'Handle On You', 'Dancin’ In The Country', \"What He Didn't Do\", 'Bloody Mary', 'Cowgirls (feat. ERNEST)', 'Tennessee Orange', 'Lavender Haze', 'Die For You (Remix)', 'Shivers', 'Everywhere', 'Interlude : Dive', \"Creepin'\", 'Heaven', 'Change the World', 'Going, Going, Gone', 'NASTY', 'Just Pretend', 'Calm Down', \"'Til You Can't\"]\n",
      "['Morgan Wallen', 'Miley Cyrus', 'Luke Combs', 'Jimin', 'Jimin', 'Rema & Selena Gomez', 'Jimin', 'Lainey Wilson', 'Ed Sheeran', 'Donald J. Trump & J6 Prison Choir', 'Jimin', 'LINKIN PARK', 'Jimin', 'Lauren Daigle', 'Taylor Swift', 'Morgan Wallen', 'Morgan Wallen', 'Coi Leray', 'Luke Combs', 'Paris Paloma', 'Luke Combs', 'Luke Combs', 'Kane Brown & Katelyn Brown', 'Blake Shelton', 'P!nk', 'Lauren Daigle', '3 Doors Down', 'Bailey Zimmerman', 'HARDY & Lainey Wilson', 'SZA', 'Toosii', 'Sia', 'Elevation Worship', 'OneRepublic', 'Tom MacDonald & John Rich', 'Katy Nichole', 'Ed Sheeran', 'Lauren Daigle', 'Morgan Wallen', 'Phil Wickham', 'Taylor Swift', 'Harry Styles', 'Miguel', 'Zach Bryan', 'Jelly Roll', 'ROSALÍA & Rauw Alejandro', 'Ed Sheeran', 'Daisy Jones & The Six', 'Morgan Wallen', 'Brandon Lake', 'Josh Groban', 'Rihanna', 'Morgan Wallen', 'Jimin', 'Lady Gaga', 'Jelly Roll', 'Jimin', 'Chris Stapleton', 'LINKIN PARK', 'Zoey Dollaz', 'KAROL G & Shakira', 'Morgan Wallen', 'Coco Jones', 'Katy Nichole & Big Daddy Weave', 'Jimin', 'PinkPantheress & Ice Spice', 'Sam Smith & Kim Petras', 'Tiësto & Tate McRae', 'Timcast', 'Miley Cyrus', 'RAYE & 070 Shake', 'Meghan Trainor', 'Meghan Trainor', 'Blake Shelton', 'Morgan Wallen', 'Cody Johnson', 'David Guetta & Bebe Rexha', 'Cole Swindell', 'Lauren Daigle', 'Randy Travis', 'JVKE', 'Parker McCollum', 'Tyler Hubbard', 'Carly Pearce', 'Lady Gaga', 'Morgan Wallen', 'Megan Moroney', 'Taylor Swift', 'The Weeknd & Ariana Grande', 'Ed Sheeran', 'Fleetwood Mac', 'Jimin', 'Metro Boomin, The Weeknd & 21 Savage', 'Niall Horan', 'Eric Clapton', 'Luke Combs', 'Russ', 'Bad Omens', 'Rema', 'Cody Johnson']\n"
     ]
    }
   ],
   "source": [
    "#initialize empty lists\n",
    "title = []\n",
    "artist = []\n",
    "\n",
    "# define the number of iterations of our for loop\n",
    "# by checking how many elements are in the retrieved result set\n",
    "# (this is equivalent but more robust than just explicitly defining 250 iterations)\n",
    "num_iter = len(soup.select(\"div.chart-content.col-xs-12.col-sm-8 > p > cite\"))\n",
    "\n",
    "tClist = soup.select(\"div.chart-content.col-xs-12.col-sm-8 > p > cite\")\n",
    "spanlist = soup.select(\"div.chart-content.col-xs-12.col-sm-8 > p > em\")\n",
    "# iterate through the result set and retrive all the data\n",
    "for i in range(num_iter):\n",
    "    title.append(tClist[i].get_text())\n",
    "    artist.append(spanlist[i].get_text())\n",
    "\n",
    "print(title)\n",
    "print(artist)"
   ]
  },
  {
   "cell_type": "code",
   "execution_count": 10,
   "id": "88d6a7e8",
   "metadata": {},
   "outputs": [],
   "source": [
    "top100songs = pd.DataFrame({\"title\":title,\n",
    "                       \"artist\":artist})"
   ]
  },
  {
   "cell_type": "code",
   "execution_count": 11,
   "id": "553e5dda",
   "metadata": {},
   "outputs": [
    {
     "data": {
      "text/html": [
       "<div>\n",
       "<style scoped>\n",
       "    .dataframe tbody tr th:only-of-type {\n",
       "        vertical-align: middle;\n",
       "    }\n",
       "\n",
       "    .dataframe tbody tr th {\n",
       "        vertical-align: top;\n",
       "    }\n",
       "\n",
       "    .dataframe thead th {\n",
       "        text-align: right;\n",
       "    }\n",
       "</style>\n",
       "<table border=\"1\" class=\"dataframe\">\n",
       "  <thead>\n",
       "    <tr style=\"text-align: right;\">\n",
       "      <th></th>\n",
       "      <th>title</th>\n",
       "      <th>artist</th>\n",
       "    </tr>\n",
       "  </thead>\n",
       "  <tbody>\n",
       "    <tr>\n",
       "      <th>0</th>\n",
       "      <td>Last Night</td>\n",
       "      <td>Morgan Wallen</td>\n",
       "    </tr>\n",
       "    <tr>\n",
       "      <th>1</th>\n",
       "      <td>Flowers</td>\n",
       "      <td>Miley Cyrus</td>\n",
       "    </tr>\n",
       "    <tr>\n",
       "      <th>2</th>\n",
       "      <td>Fast Car</td>\n",
       "      <td>Luke Combs</td>\n",
       "    </tr>\n",
       "    <tr>\n",
       "      <th>3</th>\n",
       "      <td>Like Crazy (Deep House Remix)</td>\n",
       "      <td>Jimin</td>\n",
       "    </tr>\n",
       "    <tr>\n",
       "      <th>4</th>\n",
       "      <td>Like Crazy (UK Garage Remix)</td>\n",
       "      <td>Jimin</td>\n",
       "    </tr>\n",
       "    <tr>\n",
       "      <th>...</th>\n",
       "      <td>...</td>\n",
       "      <td>...</td>\n",
       "    </tr>\n",
       "    <tr>\n",
       "      <th>95</th>\n",
       "      <td>Going, Going, Gone</td>\n",
       "      <td>Luke Combs</td>\n",
       "    </tr>\n",
       "    <tr>\n",
       "      <th>96</th>\n",
       "      <td>NASTY</td>\n",
       "      <td>Russ</td>\n",
       "    </tr>\n",
       "    <tr>\n",
       "      <th>97</th>\n",
       "      <td>Just Pretend</td>\n",
       "      <td>Bad Omens</td>\n",
       "    </tr>\n",
       "    <tr>\n",
       "      <th>98</th>\n",
       "      <td>Calm Down</td>\n",
       "      <td>Rema</td>\n",
       "    </tr>\n",
       "    <tr>\n",
       "      <th>99</th>\n",
       "      <td>'Til You Can't</td>\n",
       "      <td>Cody Johnson</td>\n",
       "    </tr>\n",
       "  </tbody>\n",
       "</table>\n",
       "<p>100 rows × 2 columns</p>\n",
       "</div>"
      ],
      "text/plain": [
       "                            title         artist\n",
       "0                      Last Night  Morgan Wallen\n",
       "1                         Flowers    Miley Cyrus\n",
       "2                        Fast Car     Luke Combs\n",
       "3   Like Crazy (Deep House Remix)          Jimin\n",
       "4    Like Crazy (UK Garage Remix)          Jimin\n",
       "..                            ...            ...\n",
       "95             Going, Going, Gone     Luke Combs\n",
       "96                          NASTY           Russ\n",
       "97                   Just Pretend      Bad Omens\n",
       "98                      Calm Down           Rema\n",
       "99                 'Til You Can't   Cody Johnson\n",
       "\n",
       "[100 rows x 2 columns]"
      ]
     },
     "execution_count": 11,
     "metadata": {},
     "output_type": "execute_result"
    }
   ],
   "source": [
    "top100songs"
   ]
  },
  {
   "cell_type": "code",
   "execution_count": 12,
   "id": "0d77b0e2",
   "metadata": {},
   "outputs": [],
   "source": [
    "top100songs.to_csv('new_data.csv', index=False)"
   ]
  },
  {
   "cell_type": "code",
   "execution_count": 14,
   "id": "0fdcd881",
   "metadata": {},
   "outputs": [
    {
     "name": "stdout",
     "output_type": "stream",
     "text": [
      "please insert song name:Flowers\n",
      "please insert artist: Miley Cyrus\n"
     ]
    }
   ],
   "source": [
    "song_title = input ('please insert song name:')\n",
    "song_artist = input('please insert artist: ')"
   ]
  },
  {
   "cell_type": "code",
   "execution_count": 15,
   "id": "3ed6fe40",
   "metadata": {},
   "outputs": [
    {
     "name": "stdout",
     "output_type": "stream",
     "text": [
      "You might like: Face-off\n",
      "You might like: Jimin\n"
     ]
    }
   ],
   "source": [
    "import random\n",
    "x = random.randint(0,100)\n",
    "# check if the song is in the DataFrame\n",
    "if song_title in top100songs['title'].values:\n",
    "    # if the song is in the DataFrame, recommend a different song\n",
    "    recommended_song = top100songs.loc[top100songs['title'] != song_title, 'title'].iloc[x]\n",
    "    print(\"You might like:\", recommended_song)\n",
    "else:\n",
    "    # if the song is not in the DataFrame, print a message\n",
    "    print(\"Sorry, we cannot recommend a song.\")\n",
    "if song_artist in top100songs['artist'].values:\n",
    "    recommended_artist = top100songs.loc[top100songs['artist'] != song_artist, 'artist'].iloc[x]\n",
    "    print ('You might like:', recommended_artist)\n",
    "else: \n",
    "    print(\"Sorry,we cannot recommend an artist.\")"
   ]
  },
  {
   "cell_type": "markdown",
   "id": "6ac0d2c1",
   "metadata": {},
   "source": [
    "# Lab API wrappers - Create your collection of songs & audio features"
   ]
  },
  {
   "cell_type": "code",
   "execution_count": 20,
   "id": "dde8ca34",
   "metadata": {
    "scrolled": true
   },
   "outputs": [],
   "source": [
    "secrets_file = open(\"secrets-Copy1.txt\",\"r\")"
   ]
  },
  {
   "cell_type": "code",
   "execution_count": 23,
   "id": "395bdf18",
   "metadata": {},
   "outputs": [],
   "source": [
    "string = secrets_file.read()"
   ]
  },
  {
   "cell_type": "code",
   "execution_count": 24,
   "id": "1b6ce40c",
   "metadata": {},
   "outputs": [
    {
     "data": {
      "text/plain": [
       "['',\n",
       " '',\n",
       " 'cid:03cc2e02247b4b9ca1f21cb46e59ce47',\n",
       " 'csecret:f938e4f2bdb04691a103bbcac8b21710']"
      ]
     },
     "execution_count": 24,
     "metadata": {},
     "output_type": "execute_result"
    }
   ],
   "source": [
    "string.split('\\n')"
   ]
  },
  {
   "cell_type": "code",
   "execution_count": 25,
   "id": "57f22f32",
   "metadata": {},
   "outputs": [],
   "source": [
    "secrets_dict={}\n",
    "for line in string.split('\\n'):\n",
    "    if len(line) > 0:\n",
    "        secrets_dict[line.split(':')[0]]=line.split(':')[1].strip()"
   ]
  },
  {
   "cell_type": "code",
   "execution_count": null,
   "id": "34f4ec17",
   "metadata": {},
   "outputs": [],
   "source": []
  },
  {
   "cell_type": "code",
   "execution_count": 26,
   "id": "439302e3",
   "metadata": {},
   "outputs": [],
   "source": [
    "import spotipy\n",
    "from spotipy.oauth2 import SpotifyClientCredentials\n",
    "\n",
    "#Initialize SpotiPy with user credentials\n",
    "sp = spotipy.Spotify(auth_manager=SpotifyClientCredentials(client_id=secrets_dict['cid'],\n",
    "                                                           client_secret=secrets_dict['csecret']))"
   ]
  },
  {
   "cell_type": "code",
   "execution_count": 27,
   "id": "684f0a03",
   "metadata": {},
   "outputs": [],
   "source": [
    "playlist = sp.user_playlist_tracks(\"spotify\", \"5S8SJdl1BDc0ugpkEvFsIL\")"
   ]
  },
  {
   "cell_type": "code",
   "execution_count": 29,
   "id": "924fb4d1",
   "metadata": {},
   "outputs": [
    {
     "data": {
      "text/plain": [
       "dict_keys(['href', 'items', 'limit', 'next', 'offset', 'previous', 'total'])"
      ]
     },
     "execution_count": 29,
     "metadata": {},
     "output_type": "execute_result"
    }
   ],
   "source": [
    "playlist.keys()"
   ]
  },
  {
   "cell_type": "code",
   "execution_count": 68,
   "id": "0ccd5159",
   "metadata": {},
   "outputs": [
    {
     "data": {
      "text/plain": [
       "100"
      ]
     },
     "execution_count": 68,
     "metadata": {},
     "output_type": "execute_result"
    }
   ],
   "source": [
    "len(playlist[\"items\"])"
   ]
  },
  {
   "cell_type": "code",
   "execution_count": 62,
   "id": "719cbe42",
   "metadata": {},
   "outputs": [
    {
     "data": {
      "text/plain": [
       "{'added_at': '2017-11-20T02:36:14Z',\n",
       " 'added_by': {'external_urls': {'spotify': 'https://open.spotify.com/user/twgeb7mzdcv4u8h191dxrvlpc'},\n",
       "  'href': 'https://api.spotify.com/v1/users/twgeb7mzdcv4u8h191dxrvlpc',\n",
       "  'id': 'twgeb7mzdcv4u8h191dxrvlpc',\n",
       "  'type': 'user',\n",
       "  'uri': 'spotify:user:twgeb7mzdcv4u8h191dxrvlpc'},\n",
       " 'is_local': False,\n",
       " 'primary_color': None,\n",
       " 'track': {'album': {'album_group': 'album',\n",
       "   'album_type': 'album',\n",
       "   'artists': [{'external_urls': {'spotify': 'https://open.spotify.com/artist/6eUKZXaKkcviH0Ku9w2n3V'},\n",
       "     'href': 'https://api.spotify.com/v1/artists/6eUKZXaKkcviH0Ku9w2n3V',\n",
       "     'id': '6eUKZXaKkcviH0Ku9w2n3V',\n",
       "     'name': 'Ed Sheeran',\n",
       "     'type': 'artist',\n",
       "     'uri': 'spotify:artist:6eUKZXaKkcviH0Ku9w2n3V'}],\n",
       "   'available_markets': ['AE',\n",
       "    'AG',\n",
       "    'AL',\n",
       "    'AM',\n",
       "    'AO',\n",
       "    'AR',\n",
       "    'AT',\n",
       "    'AU',\n",
       "    'AZ',\n",
       "    'BA',\n",
       "    'BB',\n",
       "    'BE',\n",
       "    'BF',\n",
       "    'BG',\n",
       "    'BH',\n",
       "    'BI',\n",
       "    'BJ',\n",
       "    'BN',\n",
       "    'BO',\n",
       "    'BR',\n",
       "    'BS',\n",
       "    'BW',\n",
       "    'BY',\n",
       "    'BZ',\n",
       "    'CA',\n",
       "    'CD',\n",
       "    'CG',\n",
       "    'CH',\n",
       "    'CI',\n",
       "    'CL',\n",
       "    'CM',\n",
       "    'CO',\n",
       "    'CR',\n",
       "    'CV',\n",
       "    'CW',\n",
       "    'CY',\n",
       "    'CZ',\n",
       "    'DE',\n",
       "    'DJ',\n",
       "    'DK',\n",
       "    'DM',\n",
       "    'DO',\n",
       "    'DZ',\n",
       "    'EC',\n",
       "    'EE',\n",
       "    'EG',\n",
       "    'ES',\n",
       "    'ET',\n",
       "    'FI',\n",
       "    'FJ',\n",
       "    'FM',\n",
       "    'FR',\n",
       "    'GA',\n",
       "    'GB',\n",
       "    'GD',\n",
       "    'GH',\n",
       "    'GM',\n",
       "    'GN',\n",
       "    'GQ',\n",
       "    'GR',\n",
       "    'GT',\n",
       "    'GW',\n",
       "    'HK',\n",
       "    'HN',\n",
       "    'HR',\n",
       "    'HT',\n",
       "    'HU',\n",
       "    'ID',\n",
       "    'IE',\n",
       "    'IL',\n",
       "    'IN',\n",
       "    'IQ',\n",
       "    'IT',\n",
       "    'JM',\n",
       "    'JO',\n",
       "    'JP',\n",
       "    'KE',\n",
       "    'KG',\n",
       "    'KH',\n",
       "    'KM',\n",
       "    'KN',\n",
       "    'KR',\n",
       "    'KW',\n",
       "    'KZ',\n",
       "    'LA',\n",
       "    'LB',\n",
       "    'LC',\n",
       "    'LK',\n",
       "    'LR',\n",
       "    'LS',\n",
       "    'LT',\n",
       "    'LU',\n",
       "    'LV',\n",
       "    'LY',\n",
       "    'MA',\n",
       "    'MD',\n",
       "    'ME',\n",
       "    'MG',\n",
       "    'MK',\n",
       "    'ML',\n",
       "    'MN',\n",
       "    'MO',\n",
       "    'MR',\n",
       "    'MT',\n",
       "    'MU',\n",
       "    'MW',\n",
       "    'MX',\n",
       "    'MY',\n",
       "    'MZ',\n",
       "    'NA',\n",
       "    'NE',\n",
       "    'NG',\n",
       "    'NI',\n",
       "    'NL',\n",
       "    'NO',\n",
       "    'NP',\n",
       "    'NZ',\n",
       "    'OM',\n",
       "    'PA',\n",
       "    'PE',\n",
       "    'PG',\n",
       "    'PH',\n",
       "    'PL',\n",
       "    'PT',\n",
       "    'PY',\n",
       "    'QA',\n",
       "    'RO',\n",
       "    'RS',\n",
       "    'RW',\n",
       "    'SA',\n",
       "    'SC',\n",
       "    'SE',\n",
       "    'SG',\n",
       "    'SI',\n",
       "    'SK',\n",
       "    'SL',\n",
       "    'SN',\n",
       "    'ST',\n",
       "    'SV',\n",
       "    'SZ',\n",
       "    'TD',\n",
       "    'TG',\n",
       "    'TH',\n",
       "    'TJ',\n",
       "    'TL',\n",
       "    'TN',\n",
       "    'TR',\n",
       "    'TT',\n",
       "    'TW',\n",
       "    'TZ',\n",
       "    'UA',\n",
       "    'UG',\n",
       "    'US',\n",
       "    'UY',\n",
       "    'UZ',\n",
       "    'VC',\n",
       "    'VE',\n",
       "    'VN',\n",
       "    'XK',\n",
       "    'ZA',\n",
       "    'ZM',\n",
       "    'ZW'],\n",
       "   'external_urls': {'spotify': 'https://open.spotify.com/album/1xn54DMo2qIqBuMqHtUsFd'},\n",
       "   'href': 'https://api.spotify.com/v1/albums/1xn54DMo2qIqBuMqHtUsFd',\n",
       "   'id': '1xn54DMo2qIqBuMqHtUsFd',\n",
       "   'images': [{'height': 640,\n",
       "     'url': 'https://i.scdn.co/image/ab67616d0000b27313b3e37318a0c247b550bccd',\n",
       "     'width': 640},\n",
       "    {'height': 300,\n",
       "     'url': 'https://i.scdn.co/image/ab67616d00001e0213b3e37318a0c247b550bccd',\n",
       "     'width': 300},\n",
       "    {'height': 64,\n",
       "     'url': 'https://i.scdn.co/image/ab67616d0000485113b3e37318a0c247b550bccd',\n",
       "     'width': 64}],\n",
       "   'is_playable': True,\n",
       "   'name': 'x (Deluxe Edition)',\n",
       "   'release_date': '2014-06-21',\n",
       "   'release_date_precision': 'day',\n",
       "   'total_tracks': 16,\n",
       "   'type': 'album',\n",
       "   'uri': 'spotify:album:1xn54DMo2qIqBuMqHtUsFd'},\n",
       "  'artists': [{'external_urls': {'spotify': 'https://open.spotify.com/artist/6eUKZXaKkcviH0Ku9w2n3V'},\n",
       "    'href': 'https://api.spotify.com/v1/artists/6eUKZXaKkcviH0Ku9w2n3V',\n",
       "    'id': '6eUKZXaKkcviH0Ku9w2n3V',\n",
       "    'name': 'Ed Sheeran',\n",
       "    'type': 'artist',\n",
       "    'uri': 'spotify:artist:6eUKZXaKkcviH0Ku9w2n3V'}],\n",
       "  'available_markets': ['AR',\n",
       "   'AU',\n",
       "   'AT',\n",
       "   'BE',\n",
       "   'BO',\n",
       "   'BR',\n",
       "   'BG',\n",
       "   'CA',\n",
       "   'CL',\n",
       "   'CO',\n",
       "   'CR',\n",
       "   'CY',\n",
       "   'CZ',\n",
       "   'DK',\n",
       "   'DO',\n",
       "   'DE',\n",
       "   'EC',\n",
       "   'EE',\n",
       "   'SV',\n",
       "   'FI',\n",
       "   'FR',\n",
       "   'GR',\n",
       "   'GT',\n",
       "   'HN',\n",
       "   'HK',\n",
       "   'HU',\n",
       "   'IE',\n",
       "   'IT',\n",
       "   'LV',\n",
       "   'LT',\n",
       "   'LU',\n",
       "   'MY',\n",
       "   'MT',\n",
       "   'MX',\n",
       "   'NL',\n",
       "   'NZ',\n",
       "   'NI',\n",
       "   'NO',\n",
       "   'PA',\n",
       "   'PY',\n",
       "   'PE',\n",
       "   'PH',\n",
       "   'PL',\n",
       "   'PT',\n",
       "   'SG',\n",
       "   'SK',\n",
       "   'ES',\n",
       "   'SE',\n",
       "   'CH',\n",
       "   'TW',\n",
       "   'TR',\n",
       "   'UY',\n",
       "   'US',\n",
       "   'GB',\n",
       "   'ID',\n",
       "   'JP',\n",
       "   'TH',\n",
       "   'VN',\n",
       "   'RO',\n",
       "   'IL',\n",
       "   'ZA',\n",
       "   'SA',\n",
       "   'AE',\n",
       "   'BH',\n",
       "   'QA',\n",
       "   'OM',\n",
       "   'KW',\n",
       "   'EG',\n",
       "   'MA',\n",
       "   'DZ',\n",
       "   'TN',\n",
       "   'LB',\n",
       "   'JO',\n",
       "   'IN',\n",
       "   'BY',\n",
       "   'KZ',\n",
       "   'MD',\n",
       "   'UA',\n",
       "   'AL',\n",
       "   'BA',\n",
       "   'HR',\n",
       "   'ME',\n",
       "   'MK',\n",
       "   'RS',\n",
       "   'SI',\n",
       "   'KR',\n",
       "   'LK',\n",
       "   'GH',\n",
       "   'KE',\n",
       "   'NG',\n",
       "   'TZ',\n",
       "   'UG',\n",
       "   'AG',\n",
       "   'AM',\n",
       "   'BS',\n",
       "   'BB',\n",
       "   'BZ',\n",
       "   'BW',\n",
       "   'BF',\n",
       "   'CV',\n",
       "   'CW',\n",
       "   'DM',\n",
       "   'FJ',\n",
       "   'GM',\n",
       "   'GD',\n",
       "   'GW',\n",
       "   'HT',\n",
       "   'JM',\n",
       "   'LS',\n",
       "   'LR',\n",
       "   'MW',\n",
       "   'ML',\n",
       "   'FM',\n",
       "   'NA',\n",
       "   'NE',\n",
       "   'PG',\n",
       "   'ST',\n",
       "   'SN',\n",
       "   'SC',\n",
       "   'SL',\n",
       "   'KN',\n",
       "   'LC',\n",
       "   'VC',\n",
       "   'TL',\n",
       "   'TT',\n",
       "   'AZ',\n",
       "   'BN',\n",
       "   'BI',\n",
       "   'KH',\n",
       "   'CM',\n",
       "   'TD',\n",
       "   'KM',\n",
       "   'GQ',\n",
       "   'SZ',\n",
       "   'GA',\n",
       "   'GN',\n",
       "   'KG',\n",
       "   'LA',\n",
       "   'MO',\n",
       "   'MR',\n",
       "   'MN',\n",
       "   'NP',\n",
       "   'RW',\n",
       "   'TG',\n",
       "   'UZ',\n",
       "   'ZW',\n",
       "   'BJ',\n",
       "   'MG',\n",
       "   'MU',\n",
       "   'MZ',\n",
       "   'AO',\n",
       "   'CI',\n",
       "   'DJ',\n",
       "   'ZM',\n",
       "   'CD',\n",
       "   'CG',\n",
       "   'IQ',\n",
       "   'LY',\n",
       "   'TJ',\n",
       "   'VE',\n",
       "   'ET',\n",
       "   'XK'],\n",
       "  'disc_number': 1,\n",
       "  'duration_ms': 258986,\n",
       "  'episode': False,\n",
       "  'explicit': False,\n",
       "  'external_ids': {'isrc': 'GBAHS1400094'},\n",
       "  'external_urls': {'spotify': 'https://open.spotify.com/track/1HNkqx9Ahdgi1Ixy2xkKkL'},\n",
       "  'href': 'https://api.spotify.com/v1/tracks/1HNkqx9Ahdgi1Ixy2xkKkL',\n",
       "  'id': '1HNkqx9Ahdgi1Ixy2xkKkL',\n",
       "  'is_local': False,\n",
       "  'name': 'Photograph',\n",
       "  'popularity': 85,\n",
       "  'preview_url': 'https://p.scdn.co/mp3-preview/d90f4e5f15d8ed411307945560b1db8cca6b253b?cid=03cc2e02247b4b9ca1f21cb46e59ce47',\n",
       "  'track': True,\n",
       "  'track_number': 6,\n",
       "  'type': 'track',\n",
       "  'uri': 'spotify:track:1HNkqx9Ahdgi1Ixy2xkKkL'},\n",
       " 'video_thumbnail': {'url': None}}"
      ]
     },
     "execution_count": 62,
     "metadata": {},
     "output_type": "execute_result"
    }
   ],
   "source": [
    "playlist[\"items\"][4]"
   ]
  },
  {
   "cell_type": "code",
   "execution_count": 32,
   "id": "781b19fa",
   "metadata": {},
   "outputs": [
    {
     "data": {
      "text/plain": [
       "dict_keys(['added_at', 'added_by', 'is_local', 'primary_color', 'track', 'video_thumbnail'])"
      ]
     },
     "execution_count": 32,
     "metadata": {},
     "output_type": "execute_result"
    }
   ],
   "source": [
    "playlist[\"items\"][0].keys()"
   ]
  },
  {
   "cell_type": "code",
   "execution_count": 33,
   "id": "bed33520",
   "metadata": {},
   "outputs": [
    {
     "data": {
      "text/plain": [
       "{'album': {'album_group': 'single',\n",
       "  'album_type': 'single',\n",
       "  'artists': [{'external_urls': {'spotify': 'https://open.spotify.com/artist/06HL4z0CvFAxyc27GXpf02'},\n",
       "    'href': 'https://api.spotify.com/v1/artists/06HL4z0CvFAxyc27GXpf02',\n",
       "    'id': '06HL4z0CvFAxyc27GXpf02',\n",
       "    'name': 'Taylor Swift',\n",
       "    'type': 'artist',\n",
       "    'uri': 'spotify:artist:06HL4z0CvFAxyc27GXpf02'}],\n",
       "  'available_markets': [],\n",
       "  'external_urls': {'spotify': 'https://open.spotify.com/album/0HG8fMDhvN2tH5uPHFsyZP'},\n",
       "  'href': 'https://api.spotify.com/v1/albums/0HG8fMDhvN2tH5uPHFsyZP',\n",
       "  'id': '0HG8fMDhvN2tH5uPHFsyZP',\n",
       "  'images': [{'height': 640,\n",
       "    'url': 'https://i.scdn.co/image/ab67616d0000b2734322e9bd7d57d061d0e19e1f',\n",
       "    'width': 640},\n",
       "   {'height': 300,\n",
       "    'url': 'https://i.scdn.co/image/ab67616d00001e024322e9bd7d57d061d0e19e1f',\n",
       "    'width': 300},\n",
       "   {'height': 64,\n",
       "    'url': 'https://i.scdn.co/image/ab67616d000048514322e9bd7d57d061d0e19e1f',\n",
       "    'width': 64}],\n",
       "  'is_playable': True,\n",
       "  'name': '...Ready For It?',\n",
       "  'release_date': '2017-09-03',\n",
       "  'release_date_precision': 'day',\n",
       "  'total_tracks': 1,\n",
       "  'type': 'album',\n",
       "  'uri': 'spotify:album:0HG8fMDhvN2tH5uPHFsyZP'},\n",
       " 'artists': [{'external_urls': {'spotify': 'https://open.spotify.com/artist/06HL4z0CvFAxyc27GXpf02'},\n",
       "   'href': 'https://api.spotify.com/v1/artists/06HL4z0CvFAxyc27GXpf02',\n",
       "   'id': '06HL4z0CvFAxyc27GXpf02',\n",
       "   'name': 'Taylor Swift',\n",
       "   'type': 'artist',\n",
       "   'uri': 'spotify:artist:06HL4z0CvFAxyc27GXpf02'}],\n",
       " 'available_markets': [],\n",
       " 'disc_number': 1,\n",
       " 'duration_ms': 208198,\n",
       " 'episode': False,\n",
       " 'explicit': False,\n",
       " 'external_ids': {'isrc': 'USCJY1750003'},\n",
       " 'external_urls': {'spotify': 'https://open.spotify.com/track/7zgqtptZvhf8GEmdsM2vp2'},\n",
       " 'href': 'https://api.spotify.com/v1/tracks/7zgqtptZvhf8GEmdsM2vp2',\n",
       " 'id': '7zgqtptZvhf8GEmdsM2vp2',\n",
       " 'is_local': False,\n",
       " 'name': '...Ready For It?',\n",
       " 'popularity': 0,\n",
       " 'preview_url': None,\n",
       " 'track': True,\n",
       " 'track_number': 1,\n",
       " 'type': 'track',\n",
       " 'uri': 'spotify:track:7zgqtptZvhf8GEmdsM2vp2'}"
      ]
     },
     "execution_count": 33,
     "metadata": {},
     "output_type": "execute_result"
    }
   ],
   "source": [
    "playlist[\"items\"][0][\"track\"]"
   ]
  },
  {
   "cell_type": "code",
   "execution_count": 34,
   "id": "10a98ae4",
   "metadata": {},
   "outputs": [
    {
     "data": {
      "text/plain": [
       "dict_keys(['album', 'artists', 'available_markets', 'disc_number', 'duration_ms', 'episode', 'explicit', 'external_ids', 'external_urls', 'href', 'id', 'is_local', 'name', 'popularity', 'preview_url', 'track', 'track_number', 'type', 'uri'])"
      ]
     },
     "execution_count": 34,
     "metadata": {},
     "output_type": "execute_result"
    }
   ],
   "source": [
    "playlist[\"items\"][0][\"track\"].keys()"
   ]
  },
  {
   "cell_type": "code",
   "execution_count": 35,
   "id": "fcc59c9a",
   "metadata": {},
   "outputs": [
    {
     "data": {
      "text/plain": [
       "[{'external_urls': {'spotify': 'https://open.spotify.com/artist/06HL4z0CvFAxyc27GXpf02'},\n",
       "  'href': 'https://api.spotify.com/v1/artists/06HL4z0CvFAxyc27GXpf02',\n",
       "  'id': '06HL4z0CvFAxyc27GXpf02',\n",
       "  'name': 'Taylor Swift',\n",
       "  'type': 'artist',\n",
       "  'uri': 'spotify:artist:06HL4z0CvFAxyc27GXpf02'}]"
      ]
     },
     "execution_count": 35,
     "metadata": {},
     "output_type": "execute_result"
    }
   ],
   "source": [
    "playlist[\"items\"][0][\"track\"]['artists'] # gets me a list use index number []"
   ]
  },
  {
   "cell_type": "code",
   "execution_count": 36,
   "id": "f2734880",
   "metadata": {},
   "outputs": [
    {
     "data": {
      "text/plain": [
       "{'external_urls': {'spotify': 'https://open.spotify.com/artist/06HL4z0CvFAxyc27GXpf02'},\n",
       " 'href': 'https://api.spotify.com/v1/artists/06HL4z0CvFAxyc27GXpf02',\n",
       " 'id': '06HL4z0CvFAxyc27GXpf02',\n",
       " 'name': 'Taylor Swift',\n",
       " 'type': 'artist',\n",
       " 'uri': 'spotify:artist:06HL4z0CvFAxyc27GXpf02'}"
      ]
     },
     "execution_count": 36,
     "metadata": {},
     "output_type": "execute_result"
    }
   ],
   "source": [
    "playlist[\"items\"][0][\"track\"]['artists'][0]  # GETS ME A DICTIONARY USE A KEY"
   ]
  },
  {
   "cell_type": "code",
   "execution_count": 38,
   "id": "cb5af9f6",
   "metadata": {},
   "outputs": [
    {
     "data": {
      "text/plain": [
       "'Taylor Swift'"
      ]
     },
     "execution_count": 38,
     "metadata": {},
     "output_type": "execute_result"
    }
   ],
   "source": [
    "playlist[\"items\"][0][\"track\"]['artists'][0][\"name\"] # gets me the artist"
   ]
  },
  {
   "cell_type": "code",
   "execution_count": 41,
   "id": "37103d07",
   "metadata": {},
   "outputs": [
    {
     "data": {
      "text/plain": [
       "dict_keys(['album_group', 'album_type', 'artists', 'available_markets', 'external_urls', 'href', 'id', 'images', 'is_playable', 'name', 'release_date', 'release_date_precision', 'total_tracks', 'type', 'uri'])"
      ]
     },
     "execution_count": 41,
     "metadata": {},
     "output_type": "execute_result"
    }
   ],
   "source": [
    "playlist[\"items\"][0][\"track\"][\"album\"].keys() "
   ]
  },
  {
   "cell_type": "code",
   "execution_count": 80,
   "id": "c0c5e035",
   "metadata": {},
   "outputs": [
    {
     "data": {
      "text/plain": [
       "'Havana (feat. Young Thug)'"
      ]
     },
     "execution_count": 80,
     "metadata": {},
     "output_type": "execute_result"
    }
   ],
   "source": [
    "playlist[\"items\"][5][\"track\"][\"album\"][\"name\"] # gets me the song title"
   ]
  },
  {
   "cell_type": "code",
   "execution_count": 51,
   "id": "7a6f79db",
   "metadata": {},
   "outputs": [],
   "source": [
    "from random import randint\n",
    "from time import sleep\n",
    "\n",
    "def get_playlist_tracks(playlist_id):\n",
    "    results = sp.user_playlist_tracks(\"spotify\",playlist_id)\n",
    "    tracks = results['items']\n",
    "    while results['next']!=None:\n",
    "        results = sp.next(results)\n",
    "        tracks = tracks + results['items']\n",
    "        sleep(randint(1,3))\n",
    "    return tracks"
   ]
  },
  {
   "cell_type": "code",
   "execution_count": 54,
   "id": "fdb43f20",
   "metadata": {},
   "outputs": [
    {
     "data": {
      "text/plain": [
       "10000"
      ]
     },
     "execution_count": 54,
     "metadata": {},
     "output_type": "execute_result"
    }
   ],
   "source": [
    "all_tracks = get_playlist_tracks(\"5S8SJdl1BDc0ugpkEvFsIL\")\n",
    "len(all_tracks)"
   ]
  },
  {
   "cell_type": "code",
   "execution_count": 74,
   "id": "35e93fb4",
   "metadata": {},
   "outputs": [
    {
     "data": {
      "text/plain": [
       "'spotify:track:1HNkqx9Ahdgi1Ixy2xkKkL'"
      ]
     },
     "execution_count": 74,
     "metadata": {},
     "output_type": "execute_result"
    }
   ],
   "source": [
    "song_uri =playlist[\"items\"][0][\"track\"]['uri']\n",
    "song_uri"
   ]
  },
  {
   "cell_type": "code",
   "execution_count": 58,
   "id": "1d910b92",
   "metadata": {},
   "outputs": [
    {
     "data": {
      "text/plain": [
       "[{'danceability': 0.687,\n",
       "  'energy': 0.845,\n",
       "  'key': 7,\n",
       "  'loudness': -4.37,\n",
       "  'mode': 1,\n",
       "  'speechiness': 0.0576,\n",
       "  'acousticness': 0.1,\n",
       "  'instrumentalness': 0,\n",
       "  'liveness': 0.0452,\n",
       "  'valence': 0.809,\n",
       "  'tempo': 87.972,\n",
       "  'type': 'audio_features',\n",
       "  'id': '4Vxu50qVrQcycjRyJQaZLC',\n",
       "  'uri': 'spotify:track:4Vxu50qVrQcycjRyJQaZLC',\n",
       "  'track_href': 'https://api.spotify.com/v1/tracks/4Vxu50qVrQcycjRyJQaZLC',\n",
       "  'analysis_url': 'https://api.spotify.com/v1/audio-analysis/4Vxu50qVrQcycjRyJQaZLC',\n",
       "  'duration_ms': 190227,\n",
       "  'time_signature': 4}]"
      ]
     },
     "execution_count": 58,
     "metadata": {},
     "output_type": "execute_result"
    }
   ],
   "source": [
    "sp.audio_features(song_uri)"
   ]
  },
  {
   "cell_type": "code",
   "execution_count": 78,
   "id": "dab092e0",
   "metadata": {},
   "outputs": [
    {
     "data": {
      "text/plain": [
       "'Camila Cabello'"
      ]
     },
     "execution_count": 78,
     "metadata": {},
     "output_type": "execute_result"
    }
   ],
   "source": [
    "playlist[\"items\"][5][\"track\"]['artists'][0][\"name\"]"
   ]
  },
  {
   "cell_type": "code",
   "execution_count": 87,
   "id": "f498880e",
   "metadata": {},
   "outputs": [],
   "source": [
    "Artists= []\n",
    "\n",
    "for i in range(len(playlist[\"items\"])):\n",
    "    Artists.append(playlist[\"items\"][i][\"track\"]['artists'][0][\"name\"])"
   ]
  },
  {
   "cell_type": "code",
   "execution_count": 96,
   "id": "393be329",
   "metadata": {},
   "outputs": [
    {
     "data": {
      "text/plain": [
       "100"
      ]
     },
     "execution_count": 96,
     "metadata": {},
     "output_type": "execute_result"
    }
   ],
   "source": [
    "len(Artists)"
   ]
  },
  {
   "cell_type": "code",
   "execution_count": 83,
   "id": "a6659df3",
   "metadata": {},
   "outputs": [],
   "source": [
    "Song_uri= []\n",
    "\n",
    "for i in range(len(playlist[\"items\"])):\n",
    "    Song_uri.append(playlist[\"items\"][i][\"track\"]['uri'])"
   ]
  },
  {
   "cell_type": "code",
   "execution_count": 76,
   "id": "c9bb8e97",
   "metadata": {},
   "outputs": [
    {
     "data": {
      "text/plain": [
       "['spotify:track:7zgqtptZvhf8GEmdsM2vp2',\n",
       " 'spotify:track:7zgqtptZvhf8GEmdsM2vp2',\n",
       " 'spotify:track:7zgqtptZvhf8GEmdsM2vp2',\n",
       " 'spotify:track:7zgqtptZvhf8GEmdsM2vp2',\n",
       " 'spotify:track:7zgqtptZvhf8GEmdsM2vp2',\n",
       " 'spotify:track:7zgqtptZvhf8GEmdsM2vp2',\n",
       " 'spotify:track:7zgqtptZvhf8GEmdsM2vp2',\n",
       " 'spotify:track:7zgqtptZvhf8GEmdsM2vp2',\n",
       " 'spotify:track:7zgqtptZvhf8GEmdsM2vp2',\n",
       " 'spotify:track:7zgqtptZvhf8GEmdsM2vp2',\n",
       " 'spotify:track:7zgqtptZvhf8GEmdsM2vp2',\n",
       " 'spotify:track:7zgqtptZvhf8GEmdsM2vp2',\n",
       " 'spotify:track:7zgqtptZvhf8GEmdsM2vp2',\n",
       " 'spotify:track:7zgqtptZvhf8GEmdsM2vp2',\n",
       " 'spotify:track:7zgqtptZvhf8GEmdsM2vp2',\n",
       " 'spotify:track:7zgqtptZvhf8GEmdsM2vp2',\n",
       " 'spotify:track:7zgqtptZvhf8GEmdsM2vp2',\n",
       " 'spotify:track:7zgqtptZvhf8GEmdsM2vp2',\n",
       " 'spotify:track:7zgqtptZvhf8GEmdsM2vp2',\n",
       " 'spotify:track:7zgqtptZvhf8GEmdsM2vp2',\n",
       " 'spotify:track:7zgqtptZvhf8GEmdsM2vp2',\n",
       " 'spotify:track:7zgqtptZvhf8GEmdsM2vp2',\n",
       " 'spotify:track:7zgqtptZvhf8GEmdsM2vp2',\n",
       " 'spotify:track:7zgqtptZvhf8GEmdsM2vp2',\n",
       " 'spotify:track:7zgqtptZvhf8GEmdsM2vp2',\n",
       " 'spotify:track:7zgqtptZvhf8GEmdsM2vp2',\n",
       " 'spotify:track:7zgqtptZvhf8GEmdsM2vp2',\n",
       " 'spotify:track:7zgqtptZvhf8GEmdsM2vp2',\n",
       " 'spotify:track:7zgqtptZvhf8GEmdsM2vp2',\n",
       " 'spotify:track:7zgqtptZvhf8GEmdsM2vp2',\n",
       " 'spotify:track:7zgqtptZvhf8GEmdsM2vp2',\n",
       " 'spotify:track:7zgqtptZvhf8GEmdsM2vp2',\n",
       " 'spotify:track:7zgqtptZvhf8GEmdsM2vp2',\n",
       " 'spotify:track:7zgqtptZvhf8GEmdsM2vp2',\n",
       " 'spotify:track:7zgqtptZvhf8GEmdsM2vp2',\n",
       " 'spotify:track:7zgqtptZvhf8GEmdsM2vp2',\n",
       " 'spotify:track:7zgqtptZvhf8GEmdsM2vp2',\n",
       " 'spotify:track:7zgqtptZvhf8GEmdsM2vp2',\n",
       " 'spotify:track:7zgqtptZvhf8GEmdsM2vp2',\n",
       " 'spotify:track:7zgqtptZvhf8GEmdsM2vp2',\n",
       " 'spotify:track:7zgqtptZvhf8GEmdsM2vp2',\n",
       " 'spotify:track:7zgqtptZvhf8GEmdsM2vp2',\n",
       " 'spotify:track:7zgqtptZvhf8GEmdsM2vp2',\n",
       " 'spotify:track:7zgqtptZvhf8GEmdsM2vp2',\n",
       " 'spotify:track:7zgqtptZvhf8GEmdsM2vp2',\n",
       " 'spotify:track:7zgqtptZvhf8GEmdsM2vp2',\n",
       " 'spotify:track:7zgqtptZvhf8GEmdsM2vp2',\n",
       " 'spotify:track:7zgqtptZvhf8GEmdsM2vp2',\n",
       " 'spotify:track:7zgqtptZvhf8GEmdsM2vp2',\n",
       " 'spotify:track:7zgqtptZvhf8GEmdsM2vp2',\n",
       " 'spotify:track:7zgqtptZvhf8GEmdsM2vp2',\n",
       " 'spotify:track:7zgqtptZvhf8GEmdsM2vp2',\n",
       " 'spotify:track:7zgqtptZvhf8GEmdsM2vp2',\n",
       " 'spotify:track:7zgqtptZvhf8GEmdsM2vp2',\n",
       " 'spotify:track:7zgqtptZvhf8GEmdsM2vp2',\n",
       " 'spotify:track:7zgqtptZvhf8GEmdsM2vp2',\n",
       " 'spotify:track:7zgqtptZvhf8GEmdsM2vp2',\n",
       " 'spotify:track:7zgqtptZvhf8GEmdsM2vp2',\n",
       " 'spotify:track:7zgqtptZvhf8GEmdsM2vp2',\n",
       " 'spotify:track:7zgqtptZvhf8GEmdsM2vp2',\n",
       " 'spotify:track:7zgqtptZvhf8GEmdsM2vp2',\n",
       " 'spotify:track:7zgqtptZvhf8GEmdsM2vp2',\n",
       " 'spotify:track:7zgqtptZvhf8GEmdsM2vp2',\n",
       " 'spotify:track:7zgqtptZvhf8GEmdsM2vp2',\n",
       " 'spotify:track:7zgqtptZvhf8GEmdsM2vp2',\n",
       " 'spotify:track:7zgqtptZvhf8GEmdsM2vp2',\n",
       " 'spotify:track:7zgqtptZvhf8GEmdsM2vp2',\n",
       " 'spotify:track:7zgqtptZvhf8GEmdsM2vp2',\n",
       " 'spotify:track:7zgqtptZvhf8GEmdsM2vp2',\n",
       " 'spotify:track:7zgqtptZvhf8GEmdsM2vp2',\n",
       " 'spotify:track:7zgqtptZvhf8GEmdsM2vp2',\n",
       " 'spotify:track:7zgqtptZvhf8GEmdsM2vp2',\n",
       " 'spotify:track:7zgqtptZvhf8GEmdsM2vp2',\n",
       " 'spotify:track:7zgqtptZvhf8GEmdsM2vp2',\n",
       " 'spotify:track:7zgqtptZvhf8GEmdsM2vp2',\n",
       " 'spotify:track:7zgqtptZvhf8GEmdsM2vp2',\n",
       " 'spotify:track:7zgqtptZvhf8GEmdsM2vp2',\n",
       " 'spotify:track:7zgqtptZvhf8GEmdsM2vp2',\n",
       " 'spotify:track:7zgqtptZvhf8GEmdsM2vp2',\n",
       " 'spotify:track:7zgqtptZvhf8GEmdsM2vp2',\n",
       " 'spotify:track:7zgqtptZvhf8GEmdsM2vp2',\n",
       " 'spotify:track:7zgqtptZvhf8GEmdsM2vp2',\n",
       " 'spotify:track:7zgqtptZvhf8GEmdsM2vp2',\n",
       " 'spotify:track:7zgqtptZvhf8GEmdsM2vp2',\n",
       " 'spotify:track:7zgqtptZvhf8GEmdsM2vp2',\n",
       " 'spotify:track:7zgqtptZvhf8GEmdsM2vp2',\n",
       " 'spotify:track:7zgqtptZvhf8GEmdsM2vp2',\n",
       " 'spotify:track:7zgqtptZvhf8GEmdsM2vp2',\n",
       " 'spotify:track:7zgqtptZvhf8GEmdsM2vp2',\n",
       " 'spotify:track:7zgqtptZvhf8GEmdsM2vp2',\n",
       " 'spotify:track:7zgqtptZvhf8GEmdsM2vp2',\n",
       " 'spotify:track:7zgqtptZvhf8GEmdsM2vp2',\n",
       " 'spotify:track:7zgqtptZvhf8GEmdsM2vp2',\n",
       " 'spotify:track:7zgqtptZvhf8GEmdsM2vp2',\n",
       " 'spotify:track:7zgqtptZvhf8GEmdsM2vp2',\n",
       " 'spotify:track:7zgqtptZvhf8GEmdsM2vp2',\n",
       " 'spotify:track:7zgqtptZvhf8GEmdsM2vp2',\n",
       " 'spotify:track:7zgqtptZvhf8GEmdsM2vp2',\n",
       " 'spotify:track:7zgqtptZvhf8GEmdsM2vp2',\n",
       " 'spotify:track:7zgqtptZvhf8GEmdsM2vp2']"
      ]
     },
     "execution_count": 76,
     "metadata": {},
     "output_type": "execute_result"
    }
   ],
   "source": [
    "Song_uri"
   ]
  },
  {
   "cell_type": "code",
   "execution_count": 85,
   "id": "cbbaef09",
   "metadata": {},
   "outputs": [],
   "source": [
    "Title= []\n",
    "\n",
    "for i in range(len(playlist[\"items\"])):\n",
    "    Title.append(playlist[\"items\"][i][\"track\"][\"album\"][\"name\"])"
   ]
  },
  {
   "cell_type": "code",
   "execution_count": 86,
   "id": "16e00217",
   "metadata": {},
   "outputs": [
    {
     "data": {
      "text/plain": [
       "['...Ready For It?',\n",
       " 'Life Changes',\n",
       " '24K Magic',\n",
       " '÷ (Deluxe)',\n",
       " 'x (Deluxe Edition)',\n",
       " 'Havana (feat. Young Thug)',\n",
       " 'Unorthodox Jukebox',\n",
       " 'Rocky III: Music From The Motion Picture',\n",
       " 'Red Pill Blues (Deluxe)',\n",
       " 'x (Deluxe Edition)',\n",
       " 'Picture Show (Deluxe Edition)',\n",
       " 'Red',\n",
       " '1989',\n",
       " '#3',\n",
       " 'Overexposed',\n",
       " 'V',\n",
       " 'The Incredible Machine',\n",
       " '24K Magic',\n",
       " 'FOUR (Deluxe)',\n",
       " \"I'm the One\",\n",
       " '1989',\n",
       " 'American Teen',\n",
       " 'Unwritten',\n",
       " 'The Essential R. Kelly',\n",
       " 'Full Moon Fever',\n",
       " \"Blowin' Your Mind!\",\n",
       " 'Future History (Deluxe Edition)',\n",
       " 'Hey, Soul Sister',\n",
       " 'Woodstock',\n",
       " 'Closer',\n",
       " 'TROLLS (Original Motion Picture Soundtrack)',\n",
       " 'iSouljaBoyTellem',\n",
       " 'Uptown Special',\n",
       " '1989',\n",
       " 'Hands All Over',\n",
       " 'PRISM (Deluxe)',\n",
       " 'Was nicht passt, wird passend gemacht (Music Inspired By the Film)',\n",
       " 'Fearless',\n",
       " 'Hot Fuss',\n",
       " 'Red',\n",
       " 'DNCE',\n",
       " 'Kiss (Deluxe)',\n",
       " 'Red (Deluxe Edition)',\n",
       " 'Teenage Dream: The Complete Confection',\n",
       " '1989',\n",
       " 'Taylor Swift',\n",
       " 'Fearless',\n",
       " 'Fearless',\n",
       " '1989 (Deluxe Edition)',\n",
       " '1989',\n",
       " 'Speak Now',\n",
       " 'Gorgeous',\n",
       " 'Taylor Swift',\n",
       " 'Love In The Future (Expanded Edition)',\n",
       " 'All the Little Lights',\n",
       " 'In The Lonely Hour',\n",
       " '+',\n",
       " 'Grateful',\n",
       " 'The 20/20 Experience',\n",
       " 'Teenage Dream: The Complete Confection',\n",
       " '÷ (Deluxe)',\n",
       " 'Purpose (Deluxe)',\n",
       " 'Tell Me You Love Me',\n",
       " 'Stronger (Deluxe Version)',\n",
       " 'Brett Young EP',\n",
       " 'Singles You Up',\n",
       " 'Craving You',\n",
       " 'All On Me',\n",
       " 'Light It Up',\n",
       " 'Life Changes',\n",
       " \"I'll Name the Dogs\",\n",
       " 'LANCO - EP',\n",
       " 'You Broke Up with Me',\n",
       " 'Kiss Somebody',\n",
       " 'Brett Young',\n",
       " 'The Long Way',\n",
       " 'All Your Fault: Pt. 2',\n",
       " 'Getting Over You',\n",
       " 'Life Changes',\n",
       " 'Kane Brown',\n",
       " 'Summer Forever',\n",
       " 'Happens Like That',\n",
       " 'We Were That Song',\n",
       " 'All Or Nothing',\n",
       " 'Speakerboxxx/The Love Below',\n",
       " 'Never Forget You',\n",
       " 'At Night, Alone.',\n",
       " 'Bangerz (Deluxe Version)',\n",
       " 'Shower',\n",
       " \"It Ain't Me\",\n",
       " 'Talk Dirty',\n",
       " 'Last Train To Paris',\n",
       " 'Rockabye (feat. Sean Paul & Anne-Marie)',\n",
       " 'My World 2.0',\n",
       " 'Good Girl Gone Bad: Reloaded',\n",
       " 'Replay',\n",
       " 'Rokstarr',\n",
       " 'THE E.N.D. (THE ENERGY NEVER DIES)',\n",
       " 'Some Nights',\n",
       " 'Partners In Crime']"
      ]
     },
     "execution_count": 86,
     "metadata": {},
     "output_type": "execute_result"
    }
   ],
   "source": [
    "Title"
   ]
  },
  {
   "cell_type": "code",
   "execution_count": 94,
   "id": "ff9548bb",
   "metadata": {},
   "outputs": [],
   "source": [
    "df= pd.DataFrame({\"Artists\":Artists,\"Title\":Title, \"Song_uri\": Song_uri})"
   ]
  },
  {
   "cell_type": "code",
   "execution_count": 95,
   "id": "0535ca7c",
   "metadata": {},
   "outputs": [
    {
     "data": {
      "text/html": [
       "<div>\n",
       "<style scoped>\n",
       "    .dataframe tbody tr th:only-of-type {\n",
       "        vertical-align: middle;\n",
       "    }\n",
       "\n",
       "    .dataframe tbody tr th {\n",
       "        vertical-align: top;\n",
       "    }\n",
       "\n",
       "    .dataframe thead th {\n",
       "        text-align: right;\n",
       "    }\n",
       "</style>\n",
       "<table border=\"1\" class=\"dataframe\">\n",
       "  <thead>\n",
       "    <tr style=\"text-align: right;\">\n",
       "      <th></th>\n",
       "      <th>Artists</th>\n",
       "      <th>Title</th>\n",
       "      <th>Song_uri</th>\n",
       "    </tr>\n",
       "  </thead>\n",
       "  <tbody>\n",
       "    <tr>\n",
       "      <th>0</th>\n",
       "      <td>Taylor Swift</td>\n",
       "      <td>...Ready For It?</td>\n",
       "      <td>spotify:track:7zgqtptZvhf8GEmdsM2vp2</td>\n",
       "    </tr>\n",
       "    <tr>\n",
       "      <th>1</th>\n",
       "      <td>Thomas Rhett</td>\n",
       "      <td>Life Changes</td>\n",
       "      <td>spotify:track:4Vxu50qVrQcycjRyJQaZLC</td>\n",
       "    </tr>\n",
       "    <tr>\n",
       "      <th>2</th>\n",
       "      <td>Bruno Mars</td>\n",
       "      <td>24K Magic</td>\n",
       "      <td>spotify:track:6b8Be6ljOzmkOmFslEb23P</td>\n",
       "    </tr>\n",
       "    <tr>\n",
       "      <th>3</th>\n",
       "      <td>Ed Sheeran</td>\n",
       "      <td>÷ (Deluxe)</td>\n",
       "      <td>spotify:track:0afhq8XCExXpqazXczTSve</td>\n",
       "    </tr>\n",
       "    <tr>\n",
       "      <th>4</th>\n",
       "      <td>Ed Sheeran</td>\n",
       "      <td>x (Deluxe Edition)</td>\n",
       "      <td>spotify:track:1HNkqx9Ahdgi1Ixy2xkKkL</td>\n",
       "    </tr>\n",
       "    <tr>\n",
       "      <th>...</th>\n",
       "      <td>...</td>\n",
       "      <td>...</td>\n",
       "      <td>...</td>\n",
       "    </tr>\n",
       "    <tr>\n",
       "      <th>95</th>\n",
       "      <td>Iyaz</td>\n",
       "      <td>Replay</td>\n",
       "      <td>spotify:track:5vlEg2fT4cFWAqU5QptIpQ</td>\n",
       "    </tr>\n",
       "    <tr>\n",
       "      <th>96</th>\n",
       "      <td>Taio Cruz</td>\n",
       "      <td>Rokstarr</td>\n",
       "      <td>spotify:track:1DqdF42leyFIzqNDv9CjId</td>\n",
       "    </tr>\n",
       "    <tr>\n",
       "      <th>97</th>\n",
       "      <td>Black Eyed Peas</td>\n",
       "      <td>THE E.N.D. (THE ENERGY NEVER DIES)</td>\n",
       "      <td>spotify:track:4vp2J1l5RD4gMZwGFLfRAu</td>\n",
       "    </tr>\n",
       "    <tr>\n",
       "      <th>98</th>\n",
       "      <td>fun.</td>\n",
       "      <td>Some Nights</td>\n",
       "      <td>spotify:track:67WTwafOMgegV6ABnBQxcE</td>\n",
       "    </tr>\n",
       "    <tr>\n",
       "      <th>99</th>\n",
       "      <td>Rupert Holmes</td>\n",
       "      <td>Partners In Crime</td>\n",
       "      <td>spotify:track:5IMtdHjJ1OtkxbGe4zfUxQ</td>\n",
       "    </tr>\n",
       "  </tbody>\n",
       "</table>\n",
       "<p>100 rows × 3 columns</p>\n",
       "</div>"
      ],
      "text/plain": [
       "            Artists                               Title  \\\n",
       "0      Taylor Swift                    ...Ready For It?   \n",
       "1      Thomas Rhett                        Life Changes   \n",
       "2        Bruno Mars                           24K Magic   \n",
       "3        Ed Sheeran                          ÷ (Deluxe)   \n",
       "4        Ed Sheeran                  x (Deluxe Edition)   \n",
       "..              ...                                 ...   \n",
       "95             Iyaz                              Replay   \n",
       "96        Taio Cruz                            Rokstarr   \n",
       "97  Black Eyed Peas  THE E.N.D. (THE ENERGY NEVER DIES)   \n",
       "98             fun.                         Some Nights   \n",
       "99    Rupert Holmes                   Partners In Crime   \n",
       "\n",
       "                                Song_uri  \n",
       "0   spotify:track:7zgqtptZvhf8GEmdsM2vp2  \n",
       "1   spotify:track:4Vxu50qVrQcycjRyJQaZLC  \n",
       "2   spotify:track:6b8Be6ljOzmkOmFslEb23P  \n",
       "3   spotify:track:0afhq8XCExXpqazXczTSve  \n",
       "4   spotify:track:1HNkqx9Ahdgi1Ixy2xkKkL  \n",
       "..                                   ...  \n",
       "95  spotify:track:5vlEg2fT4cFWAqU5QptIpQ  \n",
       "96  spotify:track:1DqdF42leyFIzqNDv9CjId  \n",
       "97  spotify:track:4vp2J1l5RD4gMZwGFLfRAu  \n",
       "98  spotify:track:67WTwafOMgegV6ABnBQxcE  \n",
       "99  spotify:track:5IMtdHjJ1OtkxbGe4zfUxQ  \n",
       "\n",
       "[100 rows x 3 columns]"
      ]
     },
     "execution_count": 95,
     "metadata": {},
     "output_type": "execute_result"
    }
   ],
   "source": [
    "df"
   ]
  },
  {
   "cell_type": "code",
   "execution_count": 92,
   "id": "82f24df1",
   "metadata": {},
   "outputs": [
    {
     "data": {
      "text/plain": [
       "<bound method NDFrame.head of Empty DataFrame\n",
       "Columns: [Artists, Title, Song_uri]\n",
       "Index: []>"
      ]
     },
     "execution_count": 92,
     "metadata": {},
     "output_type": "execute_result"
    }
   ],
   "source": [
    "df.head"
   ]
  },
  {
   "cell_type": "code",
   "execution_count": null,
   "id": "2f8ab451",
   "metadata": {},
   "outputs": [],
   "source": []
  }
 ],
 "metadata": {
  "kernelspec": {
   "display_name": "Python 3 (ipykernel)",
   "language": "python",
   "name": "python3"
  },
  "language_info": {
   "codemirror_mode": {
    "name": "ipython",
    "version": 3
   },
   "file_extension": ".py",
   "mimetype": "text/x-python",
   "name": "python",
   "nbconvert_exporter": "python",
   "pygments_lexer": "ipython3",
   "version": "3.9.13"
  }
 },
 "nbformat": 4,
 "nbformat_minor": 5
}

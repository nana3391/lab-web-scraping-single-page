{
 "cells": [
  {
   "cell_type": "code",
   "execution_count": 1,
   "id": "5bd1bd0e",
   "metadata": {},
   "outputs": [],
   "source": [
    "import pandas as pd  # keywords are highlighted in green, other strings in red, etc.\n",
    "import numpy as np\n",
    "from bs4 import BeautifulSoup\n",
    "import requests\n"
   ]
  },
  {
   "cell_type": "code",
   "execution_count": null,
   "id": "411da2f3",
   "metadata": {},
   "outputs": [],
   "source": [
    "song_title = input ('please insert song name:')\n",
    "song_artist = input('please insert artist: ')"
   ]
  },
  {
   "cell_type": "code",
   "execution_count": null,
   "id": "40aa36d4",
   "metadata": {},
   "outputs": [],
   "source": [
    "import random\n",
    "x = random.randint(0,100)\n",
    "# check if the song is in the DataFrame\n",
    "if song_title in songs['title'].values:\n",
    "    # if the song is in the DataFrame, recommend a different song\n",
    "    recommended_song = songs.loc[songs['title'] != song_title, 'title'].iloc[x]\n",
    "    print(\"You might like:\", recommended_song)\n",
    "else:\n",
    "    # if the song is not in the DataFrame, print a message\n",
    "    print(\"Sorry, we cannot recommend a song.\")\n",
    "if song_artist in songs['artist'].values:\n",
    "    recommended_artist = songs.loc[songs['artist'] != song_artist, 'artist'].iloc[x]\n",
    "    print ('You might like:', recommended_artist)\n",
    "else: \n",
    "    print(\"Sorry,we cannot recommend an artist.\")"
   ]
  },
  {
   "cell_type": "code",
   "execution_count": null,
   "id": "a7eec390",
   "metadata": {},
   "outputs": [],
   "source": []
  },
  {
   "cell_type": "code",
   "execution_count": null,
   "id": "71571707",
   "metadata": {},
   "outputs": [],
   "source": []
  },
  {
   "cell_type": "code",
   "execution_count": null,
   "id": "ea12ac7a",
   "metadata": {},
   "outputs": [],
   "source": []
  }
 ],
 "metadata": {
  "kernelspec": {
   "display_name": "Python 3 (ipykernel)",
   "language": "python",
   "name": "python3"
  },
  "language_info": {
   "codemirror_mode": {
    "name": "ipython",
    "version": 3
   },
   "file_extension": ".py",
   "mimetype": "text/x-python",
   "name": "python",
   "nbconvert_exporter": "python",
   "pygments_lexer": "ipython3",
   "version": "3.9.13"
  }
 },
 "nbformat": 4,
 "nbformat_minor": 5
}

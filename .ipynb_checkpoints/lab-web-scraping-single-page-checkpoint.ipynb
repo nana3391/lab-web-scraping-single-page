{
 "cells": [
  {
   "cell_type": "code",
   "execution_count": null,
   "id": "6a8ac20e",
   "metadata": {},
   "outputs": [],
   "source": [
    "import pandas as pd  # keywords are highlighted in green, other strings in red, etc.\n",
    "import numpy as np\n",
    "from bs4 import BeautifulSoup\n",
    "import requests\n",
    "\n"
   ]
  },
  {
   "cell_type": "code",
   "execution_count": null,
   "id": "ea31ee02",
   "metadata": {},
   "outputs": [],
   "source": [
    "url= \"https://www.popvortex.com/music/charts/top-100-songs.php\""
   ]
  },
  {
   "cell_type": "code",
   "execution_count": null,
   "id": "f29f16c6",
   "metadata": {},
   "outputs": [],
   "source": [
    "# 3. download html with a get request\n",
    "response = requests.get(url)\n",
    "response.status_code # 200 status code means OK!"
   ]
  },
  {
   "cell_type": "code",
   "execution_count": null,
   "id": "9a379eca",
   "metadata": {},
   "outputs": [],
   "source": [
    "# 4.1. parse html (create the 'soup')\n",
    "soup = BeautifulSoup(response.content, \"html.parser\")"
   ]
  },
  {
   "cell_type": "code",
   "execution_count": null,
   "id": "2ff0e9f0",
   "metadata": {},
   "outputs": [],
   "source": [
    "# 4.2. check that the html code looks like it should\n",
    "#soup"
   ]
  },
  {
   "cell_type": "code",
   "execution_count": null,
   "id": "37e78168",
   "metadata": {},
   "outputs": [],
   "source": [
    "\n",
    "soup.select(\"#chart-position-1 > div.chart-content.col-xs-12.col-sm-8 > p\")"
   ]
  },
  {
   "cell_type": "code",
   "execution_count": null,
   "id": "256077f8",
   "metadata": {},
   "outputs": [],
   "source": [
    "soup.select(\"div.chart-content.col-xs-12.col-sm-8 > p > cite\")[0].get_text()"
   ]
  },
  {
   "cell_type": "code",
   "execution_count": null,
   "id": "1f1e9a4d",
   "metadata": {},
   "outputs": [],
   "source": [
    "soup.select(\"div.chart-content.col-xs-12.col-sm-8 > p > em\")[0].get_text()"
   ]
  },
  {
   "cell_type": "code",
   "execution_count": null,
   "id": "a5f6eab8",
   "metadata": {},
   "outputs": [],
   "source": [
    "#initialize empty lists\n",
    "title = []\n",
    "artist = []\n",
    "\n",
    "# define the number of iterations of our for loop\n",
    "# by checking how many elements are in the retrieved result set\n",
    "# (this is equivalent but more robust than just explicitly defining 250 iterations)\n",
    "num_iter = len(soup.select(\"div.chart-content.col-xs-12.col-sm-8 > p > cite\"))\n",
    "\n",
    "tClist = soup.select(\"div.chart-content.col-xs-12.col-sm-8 > p > cite\")\n",
    "spanlist = soup.select(\"div.chart-content.col-xs-12.col-sm-8 > p > em\")\n",
    "# iterate through the result set and retrive all the data\n",
    "for i in range(num_iter):\n",
    "    title.append(tClist[i].get_text())\n",
    "    artist.append(spanlist[i].get_text())\n",
    "\n",
    "print(title)\n",
    "print(artist)"
   ]
  },
  {
   "cell_type": "code",
   "execution_count": null,
   "id": "88d6a7e8",
   "metadata": {},
   "outputs": [],
   "source": [
    "top100songs = pd.DataFrame({\"title\":title,\n",
    "                       \"artist\":artist})"
   ]
  },
  {
   "cell_type": "code",
   "execution_count": null,
   "id": "553e5dda",
   "metadata": {},
   "outputs": [],
   "source": [
    "top100songs"
   ]
  },
  {
   "cell_type": "code",
   "execution_count": null,
   "id": "0d77b0e2",
   "metadata": {},
   "outputs": [],
   "source": [
    "top100songs.to_csv('new_data.csv', index=False)"
   ]
  },
  {
   "cell_type": "code",
   "execution_count": null,
   "id": "0fdcd881",
   "metadata": {},
   "outputs": [],
   "source": []
  },
  {
   "cell_type": "code",
   "execution_count": null,
   "id": "3ed6fe40",
   "metadata": {},
   "outputs": [],
   "source": []
  }
 ],
 "metadata": {
  "kernelspec": {
   "display_name": "Python 3 (ipykernel)",
   "language": "python",
   "name": "python3"
  },
  "language_info": {
   "codemirror_mode": {
    "name": "ipython",
    "version": 3
   },
   "file_extension": ".py",
   "mimetype": "text/x-python",
   "name": "python",
   "nbconvert_exporter": "python",
   "pygments_lexer": "ipython3",
   "version": "3.9.13"
  }
 },
 "nbformat": 4,
 "nbformat_minor": 5
}

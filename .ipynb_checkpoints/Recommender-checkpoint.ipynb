{
 "cells": [
  {
   "cell_type": "code",
   "execution_count": 17,
   "id": "c65ee001",
   "metadata": {},
   "outputs": [],
   "source": [
    "# K-means\n",
    "import numpy as np\n",
    "from sklearn import cluster, datasets\n",
    "from sklearn.preprocessing import StandardScaler\n",
    "from sklearn.cluster import KMeans\n",
    "import pandas as pd\n",
    "import pickle\n",
    "import spotipy\n",
    "from spotipy.oauth2 import SpotifyClientCredentials\n"
   ]
  },
  {
   "cell_type": "code",
   "execution_count": 12,
   "id": "99d267ff",
   "metadata": {},
   "outputs": [],
   "source": [
    "secrets_file = open(\"secrets-Copy1.txt\",\"r\")"
   ]
  },
  {
   "cell_type": "code",
   "execution_count": 13,
   "id": "c71fed32",
   "metadata": {},
   "outputs": [],
   "source": [
    "string = secrets_file.read()"
   ]
  },
  {
   "cell_type": "code",
   "execution_count": 14,
   "id": "c06d5fe4",
   "metadata": {},
   "outputs": [
    {
     "data": {
      "text/plain": [
       "['',\n",
       " '',\n",
       " 'cid:03cc2e02247b4b9ca1f21cb46e59ce47',\n",
       " 'csecret:f938e4f2bdb04691a103bbcac8b21710']"
      ]
     },
     "execution_count": 14,
     "metadata": {},
     "output_type": "execute_result"
    }
   ],
   "source": [
    "string.split('\\n')"
   ]
  },
  {
   "cell_type": "code",
   "execution_count": 15,
   "id": "056b55da",
   "metadata": {},
   "outputs": [],
   "source": [
    "secrets_dict={}\n",
    "for line in string.split('\\n'):\n",
    "    if len(line) > 0:\n",
    "        secrets_dict[line.split(':')[0]]=line.split(':')[1].strip()"
   ]
  },
  {
   "cell_type": "code",
   "execution_count": 18,
   "id": "343f9e99",
   "metadata": {},
   "outputs": [],
   "source": [
    "\n",
    "#Initialize SpotiPy with user credentials\n",
    "sp = spotipy.Spotify(auth_manager=SpotifyClientCredentials(client_id=secrets_dict['cid'],\n",
    "                                                           client_secret=secrets_dict['csecret']))"
   ]
  },
  {
   "cell_type": "code",
   "execution_count": 4,
   "id": "30efbea1",
   "metadata": {},
   "outputs": [],
   "source": [
    "top100songs=pd.read_csv('new_data.csv')"
   ]
  },
  {
   "cell_type": "code",
   "execution_count": 7,
   "id": "d0efc123",
   "metadata": {},
   "outputs": [],
   "source": [
    "recommend_df=pd.read_csv(\"recommend_df.csv\")"
   ]
  },
  {
   "cell_type": "code",
   "execution_count": 44,
   "id": "4137e4a5",
   "metadata": {},
   "outputs": [],
   "source": [
    "scaler= pickle.load(open('scaler.pkl','rb'))"
   ]
  },
  {
   "cell_type": "code",
   "execution_count": 45,
   "id": "8fbc68cb",
   "metadata": {},
   "outputs": [],
   "source": [
    "Kmeans= pickle.load(open('kmean.pkl', 'rb'))"
   ]
  },
  {
   "cell_type": "code",
   "execution_count": 11,
   "id": "78b746b9",
   "metadata": {},
   "outputs": [
    {
     "name": "stdout",
     "output_type": "stream",
     "text": [
      "please insert song name:Flowers\n",
      "please insert artist:Miley Cyrus\n",
      "You might like: Like Crazy (English Version)\n",
      "You might like: Jimin\n"
     ]
    }
   ],
   "source": [
    "import random\n",
    "x = random.randint(0,100)\n",
    "song_title = input ('please insert song name:')\n",
    "song_artist = input('please insert artist:')\n",
    "\n",
    "# check if the song is in the DataFrame\n",
    "if song_title in top100songs['title'].values:\n",
    "    # if the song is in the DataFrame, recommend a different song\n",
    "    recommended_song = top100songs.loc[top100songs['title'] != song_title, 'title'].iloc[x]\n",
    "    print(\"You might like the song:\", recommended_song)\n",
    "else:\n",
    "    # if the song is not in the DataFrame, print a message\n",
    "    print(\"Sorry, we cannot recommend a song.\")\n",
    "if song_artist in top100songs['artist'].values:\n",
    "    recommended_artist = top100songs.loc[top100songs['artist'] != song_artist, 'artist'].iloc[x]\n",
    "    print ('You might also like this artist:', recommended_artist)\n",
    "else: \n",
    "    print(\"Sorry,we cannot recommend an artist.\")"
   ]
  },
  {
   "cell_type": "code",
   "execution_count": 19,
   "id": "cae34fdb",
   "metadata": {},
   "outputs": [],
   "source": [
    "def features(track, artist):\n",
    "    track_id = sp.search(q='artist:' + artist + ' track:' + track, type='track')\n",
    "    uri = track_id[\"tracks\"][\"items\"][0]['id']\n",
    "    features = sp.audio_features(uri)\n",
    "    return features"
   ]
  },
  {
   "cell_type": "code",
   "execution_count": 21,
   "id": "e5a0d0ea",
   "metadata": {},
   "outputs": [],
   "source": [
    "new_audio= features(song_title,song_artist)"
   ]
  },
  {
   "cell_type": "code",
   "execution_count": 38,
   "id": "b446ae6a",
   "metadata": {},
   "outputs": [
    {
     "data": {
      "text/plain": [
       "{'danceability': 0.707,\n",
       " 'energy': 0.681,\n",
       " 'key': 0,\n",
       " 'loudness': -4.325,\n",
       " 'mode': 1,\n",
       " 'speechiness': 0.0668,\n",
       " 'acousticness': 0.0632,\n",
       " 'instrumentalness': 5.15e-06,\n",
       " 'liveness': 0.0322,\n",
       " 'valence': 0.646,\n",
       " 'tempo': 117.999,\n",
       " 'type': 'audio_features',\n",
       " 'id': '0yLdNVWF3Srea0uzk55zFn',\n",
       " 'uri': 'spotify:track:0yLdNVWF3Srea0uzk55zFn',\n",
       " 'track_href': 'https://api.spotify.com/v1/tracks/0yLdNVWF3Srea0uzk55zFn',\n",
       " 'analysis_url': 'https://api.spotify.com/v1/audio-analysis/0yLdNVWF3Srea0uzk55zFn',\n",
       " 'duration_ms': 200455,\n",
       " 'time_signature': 4}"
      ]
     },
     "execution_count": 38,
     "metadata": {},
     "output_type": "execute_result"
    }
   ],
   "source": [
    "dict_audio= new_audio[0]\n",
    "dict_audio"
   ]
  },
  {
   "cell_type": "code",
   "execution_count": 40,
   "id": "dfcd66a2",
   "metadata": {},
   "outputs": [],
   "source": [
    "df= pd.DataFrame.from_dict(dict_audio,orient=\"index\").T"
   ]
  },
  {
   "cell_type": "code",
   "execution_count": 41,
   "id": "acfdc03f",
   "metadata": {},
   "outputs": [
    {
     "data": {
      "text/html": [
       "<div>\n",
       "<style scoped>\n",
       "    .dataframe tbody tr th:only-of-type {\n",
       "        vertical-align: middle;\n",
       "    }\n",
       "\n",
       "    .dataframe tbody tr th {\n",
       "        vertical-align: top;\n",
       "    }\n",
       "\n",
       "    .dataframe thead th {\n",
       "        text-align: right;\n",
       "    }\n",
       "</style>\n",
       "<table border=\"1\" class=\"dataframe\">\n",
       "  <thead>\n",
       "    <tr style=\"text-align: right;\">\n",
       "      <th></th>\n",
       "      <th>danceability</th>\n",
       "      <th>energy</th>\n",
       "      <th>key</th>\n",
       "      <th>loudness</th>\n",
       "      <th>mode</th>\n",
       "      <th>speechiness</th>\n",
       "      <th>acousticness</th>\n",
       "      <th>instrumentalness</th>\n",
       "      <th>liveness</th>\n",
       "      <th>valence</th>\n",
       "      <th>tempo</th>\n",
       "      <th>type</th>\n",
       "      <th>id</th>\n",
       "      <th>uri</th>\n",
       "      <th>track_href</th>\n",
       "      <th>analysis_url</th>\n",
       "      <th>duration_ms</th>\n",
       "      <th>time_signature</th>\n",
       "    </tr>\n",
       "  </thead>\n",
       "  <tbody>\n",
       "    <tr>\n",
       "      <th>0</th>\n",
       "      <td>0.707</td>\n",
       "      <td>0.681</td>\n",
       "      <td>0</td>\n",
       "      <td>-4.325</td>\n",
       "      <td>1</td>\n",
       "      <td>0.0668</td>\n",
       "      <td>0.0632</td>\n",
       "      <td>0.000005</td>\n",
       "      <td>0.0322</td>\n",
       "      <td>0.646</td>\n",
       "      <td>117.999</td>\n",
       "      <td>audio_features</td>\n",
       "      <td>0yLdNVWF3Srea0uzk55zFn</td>\n",
       "      <td>spotify:track:0yLdNVWF3Srea0uzk55zFn</td>\n",
       "      <td>https://api.spotify.com/v1/tracks/0yLdNVWF3Sre...</td>\n",
       "      <td>https://api.spotify.com/v1/audio-analysis/0yLd...</td>\n",
       "      <td>200455</td>\n",
       "      <td>4</td>\n",
       "    </tr>\n",
       "  </tbody>\n",
       "</table>\n",
       "</div>"
      ],
      "text/plain": [
       "  danceability energy key loudness mode speechiness acousticness  \\\n",
       "0        0.707  0.681   0   -4.325    1      0.0668       0.0632   \n",
       "\n",
       "  instrumentalness liveness valence    tempo            type  \\\n",
       "0         0.000005   0.0322   0.646  117.999  audio_features   \n",
       "\n",
       "                       id                                   uri  \\\n",
       "0  0yLdNVWF3Srea0uzk55zFn  spotify:track:0yLdNVWF3Srea0uzk55zFn   \n",
       "\n",
       "                                          track_href  \\\n",
       "0  https://api.spotify.com/v1/tracks/0yLdNVWF3Sre...   \n",
       "\n",
       "                                        analysis_url duration_ms  \\\n",
       "0  https://api.spotify.com/v1/audio-analysis/0yLd...      200455   \n",
       "\n",
       "  time_signature  \n",
       "0              4  "
      ]
     },
     "execution_count": 41,
     "metadata": {},
     "output_type": "execute_result"
    }
   ],
   "source": [
    "df"
   ]
  },
  {
   "cell_type": "code",
   "execution_count": 42,
   "id": "d93af78d",
   "metadata": {},
   "outputs": [
    {
     "data": {
      "text/html": [
       "<div>\n",
       "<style scoped>\n",
       "    .dataframe tbody tr th:only-of-type {\n",
       "        vertical-align: middle;\n",
       "    }\n",
       "\n",
       "    .dataframe tbody tr th {\n",
       "        vertical-align: top;\n",
       "    }\n",
       "\n",
       "    .dataframe thead th {\n",
       "        text-align: right;\n",
       "    }\n",
       "</style>\n",
       "<table border=\"1\" class=\"dataframe\">\n",
       "  <thead>\n",
       "    <tr style=\"text-align: right;\">\n",
       "      <th></th>\n",
       "      <th>danceability</th>\n",
       "      <th>energy</th>\n",
       "      <th>key</th>\n",
       "      <th>loudness</th>\n",
       "      <th>mode</th>\n",
       "      <th>speechiness</th>\n",
       "      <th>acousticness</th>\n",
       "      <th>instrumentalness</th>\n",
       "      <th>liveness</th>\n",
       "      <th>valence</th>\n",
       "      <th>tempo</th>\n",
       "      <th>duration_ms</th>\n",
       "      <th>time_signature</th>\n",
       "    </tr>\n",
       "  </thead>\n",
       "  <tbody>\n",
       "    <tr>\n",
       "      <th>0</th>\n",
       "      <td>0.707</td>\n",
       "      <td>0.681</td>\n",
       "      <td>0</td>\n",
       "      <td>-4.325</td>\n",
       "      <td>1</td>\n",
       "      <td>0.0668</td>\n",
       "      <td>0.0632</td>\n",
       "      <td>0.000005</td>\n",
       "      <td>0.0322</td>\n",
       "      <td>0.646</td>\n",
       "      <td>117.999</td>\n",
       "      <td>200455</td>\n",
       "      <td>4</td>\n",
       "    </tr>\n",
       "  </tbody>\n",
       "</table>\n",
       "</div>"
      ],
      "text/plain": [
       "  danceability energy key loudness mode speechiness acousticness  \\\n",
       "0        0.707  0.681   0   -4.325    1      0.0668       0.0632   \n",
       "\n",
       "  instrumentalness liveness valence    tempo duration_ms time_signature  \n",
       "0         0.000005   0.0322   0.646  117.999      200455              4  "
      ]
     },
     "execution_count": 42,
     "metadata": {},
     "output_type": "execute_result"
    }
   ],
   "source": [
    "df.drop(['type', 'id', 'uri', 'track_href','analysis_url'],axis=1, inplace= True)\n",
    "df"
   ]
  },
  {
   "cell_type": "code",
   "execution_count": 46,
   "id": "d52f6f33",
   "metadata": {},
   "outputs": [],
   "source": [
    "df_scaled= scaler.transform(df)"
   ]
  },
  {
   "cell_type": "code",
   "execution_count": 47,
   "id": "50c64849",
   "metadata": {},
   "outputs": [
    {
     "data": {
      "text/plain": [
       "array([[ 0.83802292,  0.13039216, -1.45767689,  0.75895597,  0.72712269,\n",
       "        -0.03555236, -0.60368238, -0.40302986, -0.99308441,  0.69502678,\n",
       "        -0.08740237, -0.2246338 ,  0.18522809]])"
      ]
     },
     "execution_count": 47,
     "metadata": {},
     "output_type": "execute_result"
    }
   ],
   "source": [
    "df_scaled"
   ]
  },
  {
   "cell_type": "code",
   "execution_count": 55,
   "id": "b0342065",
   "metadata": {},
   "outputs": [
    {
     "name": "stderr",
     "output_type": "stream",
     "text": [
      "/Users/nancyomozokpea/opt/anaconda3/lib/python3.9/site-packages/sklearn/base.py:450: UserWarning: X does not have valid feature names, but KMeans was fitted with feature names\n",
      "  warnings.warn(\n"
     ]
    },
    {
     "data": {
      "text/plain": [
       "9"
      ]
     },
     "execution_count": 55,
     "metadata": {},
     "output_type": "execute_result"
    }
   ],
   "source": [
    "# Predicting / assigning the clusters:\n",
    "new_cluster = Kmeans.predict(df_scaled)\n",
    "\n",
    "# Check the size of the clusters\n",
    "pd.Series(clusters).value_counts().sort_index()\n",
    "new_cluster[0]"
   ]
  },
  {
   "cell_type": "code",
   "execution_count": 56,
   "id": "a9a20d23",
   "metadata": {},
   "outputs": [
    {
     "data": {
      "text/html": [
       "<div>\n",
       "<style scoped>\n",
       "    .dataframe tbody tr th:only-of-type {\n",
       "        vertical-align: middle;\n",
       "    }\n",
       "\n",
       "    .dataframe tbody tr th {\n",
       "        vertical-align: top;\n",
       "    }\n",
       "\n",
       "    .dataframe thead th {\n",
       "        text-align: right;\n",
       "    }\n",
       "</style>\n",
       "<table border=\"1\" class=\"dataframe\">\n",
       "  <thead>\n",
       "    <tr style=\"text-align: right;\">\n",
       "      <th></th>\n",
       "      <th>Artists</th>\n",
       "      <th>Title</th>\n",
       "      <th>Clusters</th>\n",
       "    </tr>\n",
       "  </thead>\n",
       "  <tbody>\n",
       "    <tr>\n",
       "      <th>1</th>\n",
       "      <td>Bruno Mars</td>\n",
       "      <td>24K Magic</td>\n",
       "      <td>9</td>\n",
       "    </tr>\n",
       "    <tr>\n",
       "      <th>8</th>\n",
       "      <td>Ed Sheeran</td>\n",
       "      <td>x (Deluxe Edition)</td>\n",
       "      <td>9</td>\n",
       "    </tr>\n",
       "    <tr>\n",
       "      <th>13</th>\n",
       "      <td>Maroon 5</td>\n",
       "      <td>Overexposed</td>\n",
       "      <td>9</td>\n",
       "    </tr>\n",
       "    <tr>\n",
       "      <th>14</th>\n",
       "      <td>Maroon 5</td>\n",
       "      <td>V</td>\n",
       "      <td>9</td>\n",
       "    </tr>\n",
       "    <tr>\n",
       "      <th>15</th>\n",
       "      <td>Sugarland</td>\n",
       "      <td>The Incredible Machine</td>\n",
       "      <td>9</td>\n",
       "    </tr>\n",
       "    <tr>\n",
       "      <th>...</th>\n",
       "      <td>...</td>\n",
       "      <td>...</td>\n",
       "      <td>...</td>\n",
       "    </tr>\n",
       "    <tr>\n",
       "      <th>9693</th>\n",
       "      <td>Led Zeppelin</td>\n",
       "      <td>Physical Graffiti (Deluxe Edition)</td>\n",
       "      <td>9</td>\n",
       "    </tr>\n",
       "    <tr>\n",
       "      <th>9697</th>\n",
       "      <td>Emerson, Lake &amp; Palmer</td>\n",
       "      <td>Brain Salad Surgery</td>\n",
       "      <td>9</td>\n",
       "    </tr>\n",
       "    <tr>\n",
       "      <th>9712</th>\n",
       "      <td>Frank Zappa</td>\n",
       "      <td>Studio Tan</td>\n",
       "      <td>9</td>\n",
       "    </tr>\n",
       "    <tr>\n",
       "      <th>9715</th>\n",
       "      <td>Dr. John</td>\n",
       "      <td>The Atco Albums Collection (Remastered)</td>\n",
       "      <td>9</td>\n",
       "    </tr>\n",
       "    <tr>\n",
       "      <th>9919</th>\n",
       "      <td>Chris Butler</td>\n",
       "      <td>The Devil Glitch</td>\n",
       "      <td>9</td>\n",
       "    </tr>\n",
       "  </tbody>\n",
       "</table>\n",
       "<p>1489 rows × 3 columns</p>\n",
       "</div>"
      ],
      "text/plain": [
       "                     Artists                                    Title  \\\n",
       "1                 Bruno Mars                                24K Magic   \n",
       "8                 Ed Sheeran                       x (Deluxe Edition)   \n",
       "13                  Maroon 5                              Overexposed   \n",
       "14                  Maroon 5                                        V   \n",
       "15                 Sugarland                   The Incredible Machine   \n",
       "...                      ...                                      ...   \n",
       "9693            Led Zeppelin       Physical Graffiti (Deluxe Edition)   \n",
       "9697  Emerson, Lake & Palmer                      Brain Salad Surgery   \n",
       "9712             Frank Zappa                               Studio Tan   \n",
       "9715                Dr. John  The Atco Albums Collection (Remastered)   \n",
       "9919            Chris Butler                         The Devil Glitch   \n",
       "\n",
       "      Clusters  \n",
       "1            9  \n",
       "8            9  \n",
       "13           9  \n",
       "14           9  \n",
       "15           9  \n",
       "...        ...  \n",
       "9693         9  \n",
       "9697         9  \n",
       "9712         9  \n",
       "9715         9  \n",
       "9919         9  \n",
       "\n",
       "[1489 rows x 3 columns]"
      ]
     },
     "execution_count": 56,
     "metadata": {},
     "output_type": "execute_result"
    }
   ],
   "source": [
    "df_2= recommend_df[recommend_df[\"Clusters\"]==new_cluster[0]]"
   ]
  },
  {
   "cell_type": "code",
   "execution_count": null,
   "id": "4df546bf",
   "metadata": {},
   "outputs": [],
   "source": [
    "import random\n",
    "random.choice(hot_100['song'])"
   ]
  },
  {
   "cell_type": "code",
   "execution_count": null,
   "id": "93b2bf46",
   "metadata": {},
   "outputs": [],
   "source": []
  },
  {
   "cell_type": "code",
   "execution_count": null,
   "id": "f0045886",
   "metadata": {},
   "outputs": [],
   "source": []
  },
  {
   "cell_type": "code",
   "execution_count": null,
   "id": "c161b74d",
   "metadata": {},
   "outputs": [],
   "source": []
  },
  {
   "cell_type": "code",
   "execution_count": null,
   "id": "f0992687",
   "metadata": {},
   "outputs": [],
   "source": []
  }
 ],
 "metadata": {
  "kernelspec": {
   "display_name": "Python 3 (ipykernel)",
   "language": "python",
   "name": "python3"
  },
  "language_info": {
   "codemirror_mode": {
    "name": "ipython",
    "version": 3
   },
   "file_extension": ".py",
   "mimetype": "text/x-python",
   "name": "python",
   "nbconvert_exporter": "python",
   "pygments_lexer": "ipython3",
   "version": "3.9.13"
  }
 },
 "nbformat": 4,
 "nbformat_minor": 5
}
